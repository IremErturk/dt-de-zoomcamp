{
 "cells": [
  {
   "cell_type": "markdown",
   "id": "88b47f85",
   "metadata": {},
   "source": [
    "## Prerequsites "
   ]
  },
  {
   "cell_type": "code",
   "execution_count": 59,
   "id": "41ae0e27",
   "metadata": {},
   "outputs": [],
   "source": [
    "# Prerequsite have service account..and corrresponding key\n",
    "# export GOOGLE_APPLICATION_CREDENTIALS=\"KEY_PATH\"\n",
    "\n",
    "# pip install -r requirements.txt\n",
    "# pip install --upgrade 'google-cloud-bigquery[bqstorage,pandas]'"
   ]
  },
  {
   "cell_type": "code",
   "execution_count": 58,
   "id": "8eba7aee",
   "metadata": {},
   "outputs": [],
   "source": [
    "from google.cloud import bigquery\n",
    "from google.oauth2 import service_account\n",
    "\n",
    "# Step0: Setup BigQuery Client by Service Account key\n",
    "# Reference: https://cloud.google.com/bigquery/docs/authentication/service-account-file\n",
    "key_path = \"../../../.google/credentials/google_credentials.json\"\n",
    "credentials = service_account.Credentials.from_service_account_file(\n",
    "    key_path, scopes=[\"https://www.googleapis.com/auth/cloud-platform\"],\n",
    ")\n",
    "client = bigquery.Client(credentials=credentials, project=credentials.project_id,)"
   ]
  },
  {
   "cell_type": "code",
   "execution_count": 80,
   "id": "6d2f45ee",
   "metadata": {},
   "outputs": [],
   "source": [
    "from google.cloud.bigquery.client import Client\n",
    "import time\n",
    "\n",
    "def get_query_estimates(client:Client, query:str):\n",
    "    job_config = bigquery.QueryJobConfig()\n",
    "    job_config.dry_run = True\n",
    "    job_config.use_query_cache = False\n",
    "    \n",
    "    query_job = client.query(\n",
    "        (query),\n",
    "        job_config=job_config,\n",
    "    )\n",
    "    \n",
    "    print(\"Estimated: This query will process {} bytes\".format(query_job.total_bytes_processed))    \n",
    "\n",
    "\n",
    "def run_query_bq(client:Client, query:str):\n",
    "    \n",
    "    get_query_estimates(client, query)\n",
    "    \n",
    "    query_job = client.query(query)\n",
    "    \n",
    "    while(query_job.done() != True):\n",
    "        time.sleep(1)\n",
    "    \n",
    "    print(\"Actual: This query will process {} bytes\".format(query_job.total_bytes_processed))\n",
    "        \n",
    "    # table_row_iterator = query_job.result()\n",
    "    # table_df = table_row_iterator.to_dataframe()\n",
    "    \n",
    "    table_df = query_job.to_dataframe()\n",
    "    return table_df\n",
    "\n"
   ]
  },
  {
   "cell_type": "markdown",
   "id": "43ee3b4f",
   "metadata": {},
   "source": [
    "## Q1\n",
    "\n",
    "**What is count for fhv vehicles data for year 2019?**  \n"
   ]
  },
  {
   "cell_type": "code",
   "execution_count": 81,
   "id": "81672987",
   "metadata": {},
   "outputs": [],
   "source": [
    "# q1.1: Create external table for fhv_tripdata in 2019 files\n",
    "q1_1= \"\"\"\n",
    "CREATE OR REPLACE EXTERNAL TABLE\n",
    "  `blissful-scout-339008.trips_data_all.external_fhv_tripdata_2019` OPTIONS( format = 'PARQUET',\n",
    "    uris = ['gs://dtc_data_lake_blissful-scout-339008/raw/fhv_tripdata_2019-*.parquet']);\n",
    "\"\"\"\n",
    "# q1.2 Query the total rows in the table\n",
    "q1_2= \"\"\"\n",
    "SELECT COUNT(*) FROM `blissful-scout-339008.trips_data_all.external_fhv_tripdata_2019`;\n",
    "\"\"\""
   ]
  },
  {
   "cell_type": "code",
   "execution_count": 82,
   "id": "d4b02666",
   "metadata": {},
   "outputs": [
    {
     "name": "stdout",
     "output_type": "stream",
     "text": [
      "Estimated: This query will process 0 bytes\n",
      "Actual: This query will process 0 bytes\n",
      "Estimated: This query will process 0 bytes\n",
      "Actual: This query will process 0 bytes\n"
     ]
    },
    {
     "data": {
      "text/html": [
       "<div>\n",
       "<style scoped>\n",
       "    .dataframe tbody tr th:only-of-type {\n",
       "        vertical-align: middle;\n",
       "    }\n",
       "\n",
       "    .dataframe tbody tr th {\n",
       "        vertical-align: top;\n",
       "    }\n",
       "\n",
       "    .dataframe thead th {\n",
       "        text-align: right;\n",
       "    }\n",
       "</style>\n",
       "<table border=\"1\" class=\"dataframe\">\n",
       "  <thead>\n",
       "    <tr style=\"text-align: right;\">\n",
       "      <th></th>\n",
       "      <th>f0_</th>\n",
       "    </tr>\n",
       "  </thead>\n",
       "  <tbody>\n",
       "    <tr>\n",
       "      <th>0</th>\n",
       "      <td>42084899</td>\n",
       "    </tr>\n",
       "  </tbody>\n",
       "</table>\n",
       "</div>"
      ],
      "text/plain": [
       "        f0_\n",
       "0  42084899"
      ]
     },
     "execution_count": 82,
     "metadata": {},
     "output_type": "execute_result"
    }
   ],
   "source": [
    "run_query_bq(client, q1_1)\n",
    "run_query_bq(client, q1_2) # Answer: 42084899"
   ]
  },
  {
   "cell_type": "markdown",
   "id": "dd6d61b4",
   "metadata": {},
   "source": [
    "## Q2\n",
    "\n",
    "**How many distinct dispatching_base_num we have in fhv for 2019?**  "
   ]
  },
  {
   "cell_type": "code",
   "execution_count": 83,
   "id": "0022acf7",
   "metadata": {},
   "outputs": [],
   "source": [
    "q2 = \"\"\"\n",
    "SELECT\n",
    "  COUNT(DISTINCT dispatching_base_num)\n",
    "FROM\n",
    "  `blissful-scout-339008.trips_data_all.external_fhv_tripdata_2019`;\n",
    "\"\"\""
   ]
  },
  {
   "cell_type": "code",
   "execution_count": 84,
   "id": "e6c3fc0c",
   "metadata": {},
   "outputs": [
    {
     "name": "stdout",
     "output_type": "stream",
     "text": [
      "Estimated: This query will process 0 bytes\n",
      "Actual: This query will process 337526049 bytes\n"
     ]
    },
    {
     "data": {
      "text/html": [
       "<div>\n",
       "<style scoped>\n",
       "    .dataframe tbody tr th:only-of-type {\n",
       "        vertical-align: middle;\n",
       "    }\n",
       "\n",
       "    .dataframe tbody tr th {\n",
       "        vertical-align: top;\n",
       "    }\n",
       "\n",
       "    .dataframe thead th {\n",
       "        text-align: right;\n",
       "    }\n",
       "</style>\n",
       "<table border=\"1\" class=\"dataframe\">\n",
       "  <thead>\n",
       "    <tr style=\"text-align: right;\">\n",
       "      <th></th>\n",
       "      <th>f0_</th>\n",
       "    </tr>\n",
       "  </thead>\n",
       "  <tbody>\n",
       "    <tr>\n",
       "      <th>0</th>\n",
       "      <td>792</td>\n",
       "    </tr>\n",
       "  </tbody>\n",
       "</table>\n",
       "</div>"
      ],
      "text/plain": [
       "   f0_\n",
       "0  792"
      ]
     },
     "execution_count": 84,
     "metadata": {},
     "output_type": "execute_result"
    }
   ],
   "source": [
    "run_query_bq(client, q2) # Answer:792"
   ]
  },
  {
   "cell_type": "markdown",
   "id": "d5874a5e",
   "metadata": {},
   "source": [
    "## Q3 and Q4\n",
    "\n",
    "**Q3: Best strategy to optimise if query always filter by dropoff_datetime and order by dispatching_base_num**  \n",
    "\n",
    "**Q4: What is the count, estimated and actual data processed for query which counts trip between 2019/01/01 and 2019/03/31 for dispatching_base_num B00987, B02060, B02279** \n"
   ]
  },
  {
   "cell_type": "code",
   "execution_count": 85,
   "id": "cd3435a0",
   "metadata": {},
   "outputs": [],
   "source": [
    "# Create table from external table to being able to compare the estimations\n",
    "q3_0 = \"\"\"\n",
    "    CREATE OR REPLACE TABLE\n",
    "      `blissful-scout-339008.trips_data_all.fhv_tripdata_2019_non_partitioned` AS\n",
    "    SELECT\n",
    "      *\n",
    "    FROM\n",
    "      `blissful-scout-339008.trips_data_all.external_fhv_tripdata_2019`;\n",
    "\"\"\"\n",
    "\n",
    "# Create partitioned table by DATE(dropoff_datetime)\n",
    "q3_1 = \"\"\"\n",
    "    CREATE OR REPLACE TABLE\n",
    "      `blissful-scout-339008.trips_data_all.fhv_tripdata_2019_partitioned_Q3Q4`\n",
    "    PARTITION BY\n",
    "      DATE(dropoff_datetime) AS\n",
    "    SELECT\n",
    "      *\n",
    "    FROM\n",
    "      `blissful-scout-339008.trips_data_all.external_fhv_tripdata_2019`;\n",
    "\"\"\"\n",
    "\n",
    "# Create partitioned+clustered table by DATE(dropoff_datetime) and dispatching_base_num \n",
    "q3_2 = \"\"\"\n",
    "    CREATE OR REPLACE TABLE\n",
    "      `blissful-scout-339008.trips_data_all.fhv_tripdata_2019_partitioned_clustered_Q3Q4`\n",
    "    PARTITION BY\n",
    "      DATE(dropoff_datetime)\n",
    "    CLUSTER BY\n",
    "      dispatching_base_num AS\n",
    "    SELECT\n",
    "      *\n",
    "    FROM\n",
    "      `blissful-scout-339008.trips_data_all.external_fhv_tripdata_2019`;\n",
    "\"\"\"\n"
   ]
  },
  {
   "cell_type": "code",
   "execution_count": 86,
   "id": "0d185450",
   "metadata": {},
   "outputs": [
    {
     "name": "stdout",
     "output_type": "stream",
     "text": [
      "Estimated: This query will process 0 bytes\n",
      "Actual: This query will process 1706145457 bytes\n",
      "Estimated: This query will process 0 bytes\n",
      "Actual: This query will process 1706145457 bytes\n",
      "Estimated: This query will process 0 bytes\n",
      "Actual: This query will process 1706145457 bytes\n"
     ]
    },
    {
     "data": {
      "text/html": [
       "<div>\n",
       "<style scoped>\n",
       "    .dataframe tbody tr th:only-of-type {\n",
       "        vertical-align: middle;\n",
       "    }\n",
       "\n",
       "    .dataframe tbody tr th {\n",
       "        vertical-align: top;\n",
       "    }\n",
       "\n",
       "    .dataframe thead th {\n",
       "        text-align: right;\n",
       "    }\n",
       "</style>\n",
       "<table border=\"1\" class=\"dataframe\">\n",
       "  <thead>\n",
       "    <tr style=\"text-align: right;\">\n",
       "      <th></th>\n",
       "    </tr>\n",
       "  </thead>\n",
       "  <tbody>\n",
       "  </tbody>\n",
       "</table>\n",
       "</div>"
      ],
      "text/plain": [
       "Empty DataFrame\n",
       "Columns: []\n",
       "Index: []"
      ]
     },
     "execution_count": 86,
     "metadata": {},
     "output_type": "execute_result"
    }
   ],
   "source": [
    "# Create prerequsite tables\n",
    "run_query_bq(client, q3_0)\n",
    "run_query_bq(client, q3_1)\n",
    "run_query_bq(client, q3_2)"
   ]
  },
  {
   "cell_type": "code",
   "execution_count": 87,
   "id": "84be51df",
   "metadata": {},
   "outputs": [],
   "source": [
    "# Compare Non-Partitioned vs Only Partioned\n",
    "# Estimated data to be process: 643 MB (non-partitioned)\n",
    "q3_2_1 = \"\"\"\n",
    "    SELECT\n",
    "      DISTINCT(dispatching_base_num)\n",
    "    FROM\n",
    "      `blissful-scout-339008.trips_data_all.fhv_tripdata_2019_non_partitioned`\n",
    "    WHERE\n",
    "      DATE(dropoff_datetime) BETWEEN '2019-06-01'\n",
    "      AND '2019-06-30';\n",
    "\"\"\"\n",
    "\n",
    "# Estimated data to be process: 30.1 MB (only partitioned)\n",
    "q3_2_2 = \"\"\"\n",
    "    SELECT\n",
    "      DISTINCT(dispatching_base_num)\n",
    "    FROM\n",
    "      `blissful-scout-339008.trips_data_all.fhv_tripdata_2019_partitioned_Q3Q4`\n",
    "    WHERE\n",
    "      DATE(dropoff_datetime) BETWEEN '2019-06-01'\n",
    "      AND '2019-06-30';\n",
    "\"\"\""
   ]
  },
  {
   "cell_type": "code",
   "execution_count": 88,
   "id": "bae10673",
   "metadata": {},
   "outputs": [
    {
     "name": "stdout",
     "output_type": "stream",
     "text": [
      "Estimated: This query will process 674205241 bytes\n",
      "Actual: This query will process 674205241 bytes\n",
      "Estimated: This query will process 31527600 bytes\n",
      "Actual: This query will process 31527600 bytes\n"
     ]
    },
    {
     "data": {
      "text/html": [
       "<div>\n",
       "<style scoped>\n",
       "    .dataframe tbody tr th:only-of-type {\n",
       "        vertical-align: middle;\n",
       "    }\n",
       "\n",
       "    .dataframe tbody tr th {\n",
       "        vertical-align: top;\n",
       "    }\n",
       "\n",
       "    .dataframe thead th {\n",
       "        text-align: right;\n",
       "    }\n",
       "</style>\n",
       "<table border=\"1\" class=\"dataframe\">\n",
       "  <thead>\n",
       "    <tr style=\"text-align: right;\">\n",
       "      <th></th>\n",
       "      <th>dispatching_base_num</th>\n",
       "    </tr>\n",
       "  </thead>\n",
       "  <tbody>\n",
       "    <tr>\n",
       "      <th>0</th>\n",
       "      <td>B02735</td>\n",
       "    </tr>\n",
       "    <tr>\n",
       "      <th>1</th>\n",
       "      <td>B03016</td>\n",
       "    </tr>\n",
       "    <tr>\n",
       "      <th>2</th>\n",
       "      <td>B01711</td>\n",
       "    </tr>\n",
       "    <tr>\n",
       "      <th>3</th>\n",
       "      <td>B00652</td>\n",
       "    </tr>\n",
       "    <tr>\n",
       "      <th>4</th>\n",
       "      <td>B00021</td>\n",
       "    </tr>\n",
       "    <tr>\n",
       "      <th>...</th>\n",
       "      <td>...</td>\n",
       "    </tr>\n",
       "    <tr>\n",
       "      <th>555</th>\n",
       "      <td>B01651</td>\n",
       "    </tr>\n",
       "    <tr>\n",
       "      <th>556</th>\n",
       "      <td>B03137</td>\n",
       "    </tr>\n",
       "    <tr>\n",
       "      <th>557</th>\n",
       "      <td>B01727</td>\n",
       "    </tr>\n",
       "    <tr>\n",
       "      <th>558</th>\n",
       "      <td>B03126</td>\n",
       "    </tr>\n",
       "    <tr>\n",
       "      <th>559</th>\n",
       "      <td>B02311</td>\n",
       "    </tr>\n",
       "  </tbody>\n",
       "</table>\n",
       "<p>560 rows × 1 columns</p>\n",
       "</div>"
      ],
      "text/plain": [
       "    dispatching_base_num\n",
       "0                 B02735\n",
       "1                 B03016\n",
       "2                 B01711\n",
       "3                 B00652\n",
       "4                 B00021\n",
       "..                   ...\n",
       "555               B01651\n",
       "556               B03137\n",
       "557               B01727\n",
       "558               B03126\n",
       "559               B02311\n",
       "\n",
       "[560 rows x 1 columns]"
      ]
     },
     "execution_count": 88,
     "metadata": {},
     "output_type": "execute_result"
    }
   ],
   "source": [
    "run_query_bq(client, q3_2_1)\n",
    "run_query_bq(client, q3_2_2)"
   ]
  },
  {
   "cell_type": "code",
   "execution_count": 89,
   "id": "43feb23c",
   "metadata": {},
   "outputs": [],
   "source": [
    "# Compare Only Partioned vs Partitioned+Clustered\n",
    "# Estimated data to be process: 400.1 MB (only partitioned)\n",
    "q4_1 = \"\"\"\n",
    "    SELECT\n",
    "      COUNT(*) AS trips\n",
    "    FROM\n",
    "      `blissful-scout-339008.trips_data_all.fhv_tripdata_2019_partitioned_Q3Q4`\n",
    "    WHERE\n",
    "      DATE(dropoff_datetime) BETWEEN '2019-01-01'\n",
    "      AND '2019-03-31'\n",
    "      AND dispatching_base_num IN (\"B00987\",\n",
    "        \"B02060\",\n",
    "        \"B02279\");\n",
    "\"\"\"\n",
    "\n",
    "# Estimated data to be process: 400.1 MB (partitioned+clustered)\n",
    "# But after the run it process only 133mb\n",
    "q4_2 = \"\"\"\n",
    "    SELECT\n",
    "      COUNT(*) AS trips\n",
    "    FROM\n",
    "      `blissful-scout-339008.trips_data_all.fhv_tripdata_2019_partitioned_clustered_Q3Q4`\n",
    "    WHERE\n",
    "      DATE(dropoff_datetime) BETWEEN '2019-01-01'\n",
    "      AND '2019-03-31'\n",
    "      AND dispatching_base_num IN (\"B00987\",\n",
    "        \"B02060\",\n",
    "        \"B02279\");\n",
    "\"\"\""
   ]
  },
  {
   "cell_type": "code",
   "execution_count": 90,
   "id": "d707a3ab",
   "metadata": {},
   "outputs": [
    {
     "name": "stdout",
     "output_type": "stream",
     "text": [
      "Estimated: This query will process 419508706 bytes\n",
      "Actual: This query will process 419508706 bytes\n",
      "Estimated: This query will process 419508706 bytes\n",
      "Actual: This query will process 157788115 bytes\n"
     ]
    },
    {
     "data": {
      "text/html": [
       "<div>\n",
       "<style scoped>\n",
       "    .dataframe tbody tr th:only-of-type {\n",
       "        vertical-align: middle;\n",
       "    }\n",
       "\n",
       "    .dataframe tbody tr th {\n",
       "        vertical-align: top;\n",
       "    }\n",
       "\n",
       "    .dataframe thead th {\n",
       "        text-align: right;\n",
       "    }\n",
       "</style>\n",
       "<table border=\"1\" class=\"dataframe\">\n",
       "  <thead>\n",
       "    <tr style=\"text-align: right;\">\n",
       "      <th></th>\n",
       "      <th>trips</th>\n",
       "    </tr>\n",
       "  </thead>\n",
       "  <tbody>\n",
       "    <tr>\n",
       "      <th>0</th>\n",
       "      <td>26643</td>\n",
       "    </tr>\n",
       "  </tbody>\n",
       "</table>\n",
       "</div>"
      ],
      "text/plain": [
       "   trips\n",
       "0  26643"
      ]
     },
     "execution_count": 90,
     "metadata": {},
     "output_type": "execute_result"
    }
   ],
   "source": [
    "run_query_bq(client, q4_1)\n",
    "run_query_bq(client, q4_2) # Answer: 26643"
   ]
  },
  {
   "cell_type": "markdown",
   "id": "7d38cb56",
   "metadata": {},
   "source": [
    "### Q3 Discover dropoff_datetime"
   ]
  },
  {
   "cell_type": "code",
   "execution_count": 91,
   "id": "0c5bae8b",
   "metadata": {},
   "outputs": [],
   "source": [
    "# Here checking if the column is suitable for partiioning\n",
    "# As maximum 4000 partitions allowed in GCP\n",
    "q3_discover_dropoff_datetime_1 = \"\"\"\n",
    "SELECT\n",
    "  COUNT(DISTINCT DATE(dropoff_datetime))\n",
    "FROM\n",
    "  `blissful-scout-339008.trips_data_all.external_fhv_tripdata_2019`;\n",
    "\"\"\"\n",
    "\n",
    "# To see how droppoff date(dropoff_datetime) is balanced in the table\n",
    "# As we are interested to have balanced partitions/clusters\n",
    "q3_discover_dropoff_datetime_2 = \"\"\"\n",
    "SELECT\n",
    "  DATE(dropoff_datetime) AS dropoff_date,\n",
    "  COUNT(DATE(dropoff_datetime)) AS counter\n",
    "FROM\n",
    "  `blissful-scout-339008.trips_data_all.external_fhv_tripdata_2019`\n",
    "GROUP BY\n",
    "  dropoff_date\n",
    "ORDER BY\n",
    "  counter DESC;\n",
    "\"\"\""
   ]
  },
  {
   "cell_type": "code",
   "execution_count": 92,
   "id": "855aa821",
   "metadata": {},
   "outputs": [
    {
     "name": "stdout",
     "output_type": "stream",
     "text": [
      "Estimated: This query will process 0 bytes\n",
      "Actual: This query will process 336679192 bytes\n"
     ]
    },
    {
     "data": {
      "text/html": [
       "<div>\n",
       "<style scoped>\n",
       "    .dataframe tbody tr th:only-of-type {\n",
       "        vertical-align: middle;\n",
       "    }\n",
       "\n",
       "    .dataframe tbody tr th {\n",
       "        vertical-align: top;\n",
       "    }\n",
       "\n",
       "    .dataframe thead th {\n",
       "        text-align: right;\n",
       "    }\n",
       "</style>\n",
       "<table border=\"1\" class=\"dataframe\">\n",
       "  <thead>\n",
       "    <tr style=\"text-align: right;\">\n",
       "      <th></th>\n",
       "      <th>f0_</th>\n",
       "    </tr>\n",
       "  </thead>\n",
       "  <tbody>\n",
       "    <tr>\n",
       "      <th>0</th>\n",
       "      <td>549</td>\n",
       "    </tr>\n",
       "  </tbody>\n",
       "</table>\n",
       "</div>"
      ],
      "text/plain": [
       "   f0_\n",
       "0  549"
      ]
     },
     "execution_count": 92,
     "metadata": {},
     "output_type": "execute_result"
    }
   ],
   "source": [
    "run_query_bq(client, q3_discover_dropoff_datetime_1) # Ans:549 therefore suitable for the partitioning as it is < 4000"
   ]
  },
  {
   "cell_type": "code",
   "execution_count": 93,
   "id": "069a0407",
   "metadata": {},
   "outputs": [
    {
     "name": "stdout",
     "output_type": "stream",
     "text": [
      "Estimated: This query will process 0 bytes\n",
      "Actual: This query will process 336679192 bytes\n"
     ]
    },
    {
     "data": {
      "text/html": [
       "<div>\n",
       "<style scoped>\n",
       "    .dataframe tbody tr th:only-of-type {\n",
       "        vertical-align: middle;\n",
       "    }\n",
       "\n",
       "    .dataframe tbody tr th {\n",
       "        vertical-align: top;\n",
       "    }\n",
       "\n",
       "    .dataframe thead th {\n",
       "        text-align: right;\n",
       "    }\n",
       "</style>\n",
       "<table border=\"1\" class=\"dataframe\">\n",
       "  <thead>\n",
       "    <tr style=\"text-align: right;\">\n",
       "      <th></th>\n",
       "      <th>dropoff_date</th>\n",
       "      <th>counter</th>\n",
       "    </tr>\n",
       "  </thead>\n",
       "  <tbody>\n",
       "    <tr>\n",
       "      <th>0</th>\n",
       "      <td>2019-01-26</td>\n",
       "      <td>925126</td>\n",
       "    </tr>\n",
       "    <tr>\n",
       "      <th>1</th>\n",
       "      <td>2019-01-12</td>\n",
       "      <td>888643</td>\n",
       "    </tr>\n",
       "    <tr>\n",
       "      <th>2</th>\n",
       "      <td>2019-01-31</td>\n",
       "      <td>888211</td>\n",
       "    </tr>\n",
       "    <tr>\n",
       "      <th>3</th>\n",
       "      <td>2019-01-25</td>\n",
       "      <td>850977</td>\n",
       "    </tr>\n",
       "    <tr>\n",
       "      <th>4</th>\n",
       "      <td>2019-01-19</td>\n",
       "      <td>845616</td>\n",
       "    </tr>\n",
       "    <tr>\n",
       "      <th>...</th>\n",
       "      <td>...</td>\n",
       "      <td>...</td>\n",
       "    </tr>\n",
       "    <tr>\n",
       "      <th>544</th>\n",
       "      <td>2091-10-11</td>\n",
       "      <td>1</td>\n",
       "    </tr>\n",
       "    <tr>\n",
       "      <th>545</th>\n",
       "      <td>2020-10-26</td>\n",
       "      <td>1</td>\n",
       "    </tr>\n",
       "    <tr>\n",
       "      <th>546</th>\n",
       "      <td>2091-10-28</td>\n",
       "      <td>1</td>\n",
       "    </tr>\n",
       "    <tr>\n",
       "      <th>547</th>\n",
       "      <td>2109-05-12</td>\n",
       "      <td>1</td>\n",
       "    </tr>\n",
       "    <tr>\n",
       "      <th>548</th>\n",
       "      <td>2109-05-15</td>\n",
       "      <td>1</td>\n",
       "    </tr>\n",
       "  </tbody>\n",
       "</table>\n",
       "<p>549 rows × 2 columns</p>\n",
       "</div>"
      ],
      "text/plain": [
       "    dropoff_date  counter\n",
       "0     2019-01-26   925126\n",
       "1     2019-01-12   888643\n",
       "2     2019-01-31   888211\n",
       "3     2019-01-25   850977\n",
       "4     2019-01-19   845616\n",
       "..           ...      ...\n",
       "544   2091-10-11        1\n",
       "545   2020-10-26        1\n",
       "546   2091-10-28        1\n",
       "547   2109-05-12        1\n",
       "548   2109-05-15        1\n",
       "\n",
       "[549 rows x 2 columns]"
      ]
     },
     "execution_count": 93,
     "metadata": {},
     "output_type": "execute_result"
    }
   ],
   "source": [
    "run_query_bq(client, q3_discover_dropoff_datetime_2)"
   ]
  },
  {
   "cell_type": "markdown",
   "id": "cd5ae1a5",
   "metadata": {},
   "source": [
    "### Q3 Discover dispatching_base_num"
   ]
  },
  {
   "cell_type": "code",
   "execution_count": 94,
   "id": "cc2389c3",
   "metadata": {},
   "outputs": [],
   "source": [
    "q3_discover_dispatching_base_num = \"\"\"\n",
    "    SELECT\n",
    "      `dispatching_base_num`,\n",
    "      COUNT(dispatching_base_num) AS counter\n",
    "    FROM\n",
    "      `blissful-scout-339008.trips_data_all.external_fhv_tripdata_2019`\n",
    "    GROUP BY\n",
    "      dispatching_base_num\n",
    "    ORDER BY\n",
    "      counter DESC;\n",
    "\"\"\""
   ]
  },
  {
   "cell_type": "code",
   "execution_count": 95,
   "id": "0a5f7164",
   "metadata": {},
   "outputs": [
    {
     "name": "stdout",
     "output_type": "stream",
     "text": [
      "Estimated: This query will process 0 bytes\n",
      "Actual: This query will process 337526049 bytes\n"
     ]
    },
    {
     "data": {
      "text/html": [
       "<div>\n",
       "<style scoped>\n",
       "    .dataframe tbody tr th:only-of-type {\n",
       "        vertical-align: middle;\n",
       "    }\n",
       "\n",
       "    .dataframe tbody tr th {\n",
       "        vertical-align: top;\n",
       "    }\n",
       "\n",
       "    .dataframe thead th {\n",
       "        text-align: right;\n",
       "    }\n",
       "</style>\n",
       "<table border=\"1\" class=\"dataframe\">\n",
       "  <thead>\n",
       "    <tr style=\"text-align: right;\">\n",
       "      <th></th>\n",
       "      <th>dispatching_base_num</th>\n",
       "      <th>counter</th>\n",
       "    </tr>\n",
       "  </thead>\n",
       "  <tbody>\n",
       "    <tr>\n",
       "      <th>0</th>\n",
       "      <td>B02510</td>\n",
       "      <td>4623412</td>\n",
       "    </tr>\n",
       "    <tr>\n",
       "      <th>1</th>\n",
       "      <td>B02764</td>\n",
       "      <td>1662983</td>\n",
       "    </tr>\n",
       "    <tr>\n",
       "      <th>2</th>\n",
       "      <td>B02765</td>\n",
       "      <td>1059883</td>\n",
       "    </tr>\n",
       "    <tr>\n",
       "      <th>3</th>\n",
       "      <td>B02875</td>\n",
       "      <td>1009567</td>\n",
       "    </tr>\n",
       "    <tr>\n",
       "      <th>4</th>\n",
       "      <td>B02800</td>\n",
       "      <td>1004974</td>\n",
       "    </tr>\n",
       "    <tr>\n",
       "      <th>...</th>\n",
       "      <td>...</td>\n",
       "      <td>...</td>\n",
       "    </tr>\n",
       "    <tr>\n",
       "      <th>787</th>\n",
       "      <td>B03237</td>\n",
       "      <td>1</td>\n",
       "    </tr>\n",
       "    <tr>\n",
       "      <th>788</th>\n",
       "      <td>B03241</td>\n",
       "      <td>1</td>\n",
       "    </tr>\n",
       "    <tr>\n",
       "      <th>789</th>\n",
       "      <td>B03242</td>\n",
       "      <td>1</td>\n",
       "    </tr>\n",
       "    <tr>\n",
       "      <th>790</th>\n",
       "      <td>B03245</td>\n",
       "      <td>1</td>\n",
       "    </tr>\n",
       "    <tr>\n",
       "      <th>791</th>\n",
       "      <td>B03247</td>\n",
       "      <td>1</td>\n",
       "    </tr>\n",
       "  </tbody>\n",
       "</table>\n",
       "<p>792 rows × 2 columns</p>\n",
       "</div>"
      ],
      "text/plain": [
       "    dispatching_base_num  counter\n",
       "0                 B02510  4623412\n",
       "1                 B02764  1662983\n",
       "2                 B02765  1059883\n",
       "3                 B02875  1009567\n",
       "4                 B02800  1004974\n",
       "..                   ...      ...\n",
       "787               B03237        1\n",
       "788               B03241        1\n",
       "789               B03242        1\n",
       "790               B03245        1\n",
       "791               B03247        1\n",
       "\n",
       "[792 rows x 2 columns]"
      ]
     },
     "execution_count": 95,
     "metadata": {},
     "output_type": "execute_result"
    }
   ],
   "source": [
    "run_query_bq(client, q3_discover_dispatching_base_num)"
   ]
  },
  {
   "cell_type": "markdown",
   "id": "ca607b32",
   "metadata": {},
   "source": [
    "## Q5"
   ]
  },
  {
   "cell_type": "code",
   "execution_count": 96,
   "id": "50d0786b",
   "metadata": {},
   "outputs": [],
   "source": [
    "# Create clustered table by dispatching_base_num and SR_Flag\n",
    "q5_1 = \"\"\"\n",
    "    CREATE OR REPLACE TABLE\n",
    "      `blissful-scout-339008.trips_data_all.fhv_tripdata_2019_partitioned_clustered_Q5`\n",
    "    CLUSTER BY\n",
    "      dispatching_base_num,\n",
    "      SR_Flag AS\n",
    "    SELECT\n",
    "      *\n",
    "    FROM\n",
    "      `blissful-scout-339008.trips_data_all.external_fhv_tripdata_2019`;\n",
    "\"\"\""
   ]
  },
  {
   "cell_type": "code",
   "execution_count": null,
   "id": "faed9e6a",
   "metadata": {},
   "outputs": [
    {
     "name": "stdout",
     "output_type": "stream",
     "text": [
      "Estimated: This query will process 0 bytes\n"
     ]
    }
   ],
   "source": [
    "run_query_bq(client, q5_1)"
   ]
  },
  {
   "cell_type": "code",
   "execution_count": 66,
   "id": "1935f294",
   "metadata": {},
   "outputs": [],
   "source": [
    "# Compare Non Partioned vs Clustered\n",
    "# Estimated data to be process: 363 MB (non partitioned)\n",
    "q5_2_1 = \"\"\"\n",
    "    SELECT\n",
    "      COUNT(*) AS trips\n",
    "    FROM\n",
    "      `blissful-scout-339008.trips_data_all.fhv_tripdata_2019_non_partitioned`\n",
    "    WHERE\n",
    "      SR_Flag=5\n",
    "      AND dispatching_base_num IN (\"B00987\",\n",
    "        \"B02060\",\n",
    "        \"B02279\");\n",
    "\"\"\"\n",
    "\n",
    "# Estimated data to be process: 363 MB(partitioned+clustered)\n",
    "# But after the run it process only 9,9mb\n",
    "q5_2_2 = \"\"\"\n",
    "    SELECT\n",
    "      COUNT(*) AS trips\n",
    "    FROM\n",
    "      `blissful-scout-339008.trips_data_all.fhv_tripdata_2019_partitioned_clustered_Q5`\n",
    "    WHERE\n",
    "      SR_Flag=5\n",
    "      AND dispatching_base_num IN (\"B00987\",\n",
    "        \"B02060\",\n",
    "        \"B02279\");\n",
    "\"\"\""
   ]
  },
  {
   "cell_type": "code",
   "execution_count": 72,
   "id": "499d9591",
   "metadata": {},
   "outputs": [
    {
     "name": "stdout",
     "output_type": "stream",
     "text": [
      "This query will process 380595129 bytes\n",
      "This query will process 380595129 bytes\n"
     ]
    },
    {
     "data": {
      "text/html": [
       "<div>\n",
       "<style scoped>\n",
       "    .dataframe tbody tr th:only-of-type {\n",
       "        vertical-align: middle;\n",
       "    }\n",
       "\n",
       "    .dataframe tbody tr th {\n",
       "        vertical-align: top;\n",
       "    }\n",
       "\n",
       "    .dataframe thead th {\n",
       "        text-align: right;\n",
       "    }\n",
       "</style>\n",
       "<table border=\"1\" class=\"dataframe\">\n",
       "  <thead>\n",
       "    <tr style=\"text-align: right;\">\n",
       "      <th></th>\n",
       "    </tr>\n",
       "  </thead>\n",
       "  <tbody>\n",
       "  </tbody>\n",
       "</table>\n",
       "</div>"
      ],
      "text/plain": [
       "Empty DataFrame\n",
       "Columns: []\n",
       "Index: []"
      ]
     },
     "execution_count": 72,
     "metadata": {},
     "output_type": "execute_result"
    }
   ],
   "source": [
    "run_query_bq_with_jobConfig(client, q5_2_1)\n",
    "run_query_bq_with_jobConfig(client, q5_2_2)"
   ]
  },
  {
   "cell_type": "markdown",
   "id": "3d627bc6",
   "metadata": {},
   "source": [
    "### Q5 Discover SR_FLAG"
   ]
  },
  {
   "cell_type": "code",
   "execution_count": 61,
   "id": "93bfc24d",
   "metadata": {},
   "outputs": [],
   "source": [
    "q5_discover_sr_flag = \"\"\"\n",
    "    SELECT\n",
    "      `SR_Flag`,\n",
    "      COUNT(SR_Flag) AS counter\n",
    "    FROM\n",
    "      `blissful-scout-339008.trips_data_all.external_fhv_tripdata_2019`\n",
    "    GROUP BY\n",
    "      SR_Flag\n",
    "    ORDER BY\n",
    "      counter DESC;\n",
    "\"\"\""
   ]
  },
  {
   "cell_type": "code",
   "execution_count": 63,
   "id": "a99d94ed",
   "metadata": {},
   "outputs": [
    {
     "name": "stdout",
     "output_type": "stream",
     "text": [
      "This query will process 0 bytes\n"
     ]
    },
    {
     "data": {
      "text/html": [
       "<div>\n",
       "<style scoped>\n",
       "    .dataframe tbody tr th:only-of-type {\n",
       "        vertical-align: middle;\n",
       "    }\n",
       "\n",
       "    .dataframe tbody tr th {\n",
       "        vertical-align: top;\n",
       "    }\n",
       "\n",
       "    .dataframe thead th {\n",
       "        text-align: right;\n",
       "    }\n",
       "</style>\n",
       "<table border=\"1\" class=\"dataframe\">\n",
       "  <thead>\n",
       "    <tr style=\"text-align: right;\">\n",
       "      <th></th>\n",
       "    </tr>\n",
       "  </thead>\n",
       "  <tbody>\n",
       "  </tbody>\n",
       "</table>\n",
       "</div>"
      ],
      "text/plain": [
       "Empty DataFrame\n",
       "Columns: []\n",
       "Index: []"
      ]
     },
     "execution_count": 63,
     "metadata": {},
     "output_type": "execute_result"
    }
   ],
   "source": [
    "run_query_bq_with_jobConfig(client, q5_discover_sr_flag)"
   ]
  },
  {
   "cell_type": "markdown",
   "id": "c92bd2ae",
   "metadata": {},
   "source": [
    "## Q6\n",
    "\n",
    "**What improvements can be seen by partitioning and clustering for data size less than 1 GB?**\n",
    "\n",
    "\n",
    "For the data less than 1GB partitioning and clustering does not add imporevements but cost as the metadata needs to processed additionally."
   ]
  },
  {
   "cell_type": "markdown",
   "id": "206b2a71",
   "metadata": {},
   "source": [
    "## Q7\n",
    "\n",
    "**In which format does BigQuery save data**\n",
    "\n",
    "In Columnar format"
   ]
  }
 ],
 "metadata": {
  "kernelspec": {
   "display_name": "Python 3 (ipykernel)",
   "language": "python",
   "name": "python3"
  },
  "language_info": {
   "codemirror_mode": {
    "name": "ipython",
    "version": 3
   },
   "file_extension": ".py",
   "mimetype": "text/x-python",
   "name": "python",
   "nbconvert_exporter": "python",
   "pygments_lexer": "ipython3",
   "version": "3.9.10"
  }
 },
 "nbformat": 4,
 "nbformat_minor": 5
}
