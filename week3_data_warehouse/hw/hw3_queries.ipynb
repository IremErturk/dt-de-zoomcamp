{
 "cells": [
  {
   "cell_type": "markdown",
   "id": "fbd9fd47",
   "metadata": {},
   "source": [
    "## Prerequsites "
   ]
  },
  {
   "cell_type": "code",
   "execution_count": 10,
   "id": "59d9b0ae",
   "metadata": {},
   "outputs": [],
   "source": [
    "# Prerequsite have service account..and corrresponding key\n",
    "# export GOOGLE_APPLICATION_CREDENTIALS=\"KEY_PATH\"\n",
    "\n",
    "# pip install -r requirements.txt\n",
    "# pip install --upgrade 'google-cloud-bigquery[bqstorage,pandas]'"
   ]
  },
  {
   "cell_type": "code",
   "execution_count": 11,
   "id": "8eba7aee",
   "metadata": {},
   "outputs": [],
   "source": [
    "from google.cloud import bigquery\n",
    "from google.oauth2 import service_account\n",
    "\n",
    "# Step0: Setup BigQuery Client by Service Account key\n",
    "# Reference: https://cloud.google.com/bigquery/docs/authentication/service-account-file\n",
    "key_path = \"../../../.google/credentials/google_credentials.json\"\n",
    "credentials = service_account.Credentials.from_service_account_file(\n",
    "    key_path, scopes=[\"https://www.googleapis.com/auth/cloud-platform\"],\n",
    ")\n",
    "client = bigquery.Client(credentials=credentials, project=credentials.project_id,)"
   ]
  },
  {
   "cell_type": "code",
   "execution_count": 12,
   "id": "c6ca254f",
   "metadata": {},
   "outputs": [],
   "source": [
    "# Set Constant Variables\n",
    "\n",
    "PROJECT_NAME = \"blissful-scout-339008\"\n",
    "DATABASE_NAME = \"trips_data_all\"\n",
    "EXTERNAL_TABLE_NAME = \"external_fhv_tripdata_2019\""
   ]
  },
  {
   "cell_type": "code",
   "execution_count": 16,
   "id": "47abee2a",
   "metadata": {},
   "outputs": [],
   "source": [
    "from google.cloud.bigquery.client import Client\n",
    "import time\n",
    "\n",
    "def get_query_estimates(client:Client, query:str):\n",
    "    job_config = bigquery.QueryJobConfig()\n",
    "    job_config.dry_run = True\n",
    "    job_config.use_query_cache = False\n",
    "    \n",
    "    query_job = client.query(\n",
    "        (query),\n",
    "        job_config=job_config,\n",
    "    )\n",
    "    \n",
    "    print(\"Estimated: This query will process {} bytes\".format(query_job.total_bytes_processed))    \n",
    "\n",
    "\n",
    "def run_query_bq(client:Client, query_template:str, select_table_name:str=\"\", create_table_name:str=\"\"):\n",
    "    \n",
    "    select_table_name = \".\".join([PROJECT_NAME, DATABASE_NAME, select_table_name])\n",
    "    create_table_name = \".\".join([PROJECT_NAME, DATABASE_NAME, create_table_name])\n",
    "    \n",
    "    query = query_template.format(select_table_name=select_table_name, create_table_name=create_table_name)\n",
    "    \n",
    "    get_query_estimates(client, query)\n",
    "    \n",
    "    query_job = client.query(query)\n",
    "    \n",
    "    while(query_job.done() != True):\n",
    "        time.sleep(1)\n",
    "    \n",
    "    print(\"Actual: This query will process {} bytes\".format(query_job.total_bytes_processed))\n",
    "        \n",
    "    # table_row_iterator = query_job.result()\n",
    "    # table_df = table_row_iterator.to_dataframe()\n",
    "    \n",
    "    table_df = query_job.to_dataframe()\n",
    "    return table_df\n",
    "\n"
   ]
  },
  {
   "cell_type": "markdown",
   "id": "4261cac9",
   "metadata": {},
   "source": [
    "## Q1\n",
    "\n",
    "**What is count for fhv vehicles data for year 2019?**  \n"
   ]
  },
  {
   "cell_type": "code",
   "execution_count": 17,
   "id": "beb4bfdb",
   "metadata": {},
   "outputs": [],
   "source": [
    "# q1.1: Create external table for fhv_tripdata in 2019 files\n",
    "q1_1= \"\"\"\n",
    "CREATE OR REPLACE EXTERNAL TABLE\n",
    "  `{create_table_name}` OPTIONS( format = 'PARQUET',\n",
    "    uris = ['gs://dtc_data_lake_blissful-scout-339008/raw/fhv_tripdata_2019-*.parquet']);\n",
    "\"\"\"\n",
    "# q1.2 Query the total rows in the table\n",
    "q1_2= \"\"\"\n",
    "SELECT COUNT(*) FROM `{select_table_name}`;\n",
    "\"\"\""
   ]
  },
  {
   "cell_type": "code",
   "execution_count": 18,
   "id": "4ec66057",
   "metadata": {},
   "outputs": [
    {
     "name": "stdout",
     "output_type": "stream",
     "text": [
      "Estimated: This query will process 0 bytes\n",
      "Actual: This query will process 0 bytes\n",
      "Estimated: This query will process 0 bytes\n",
      "Actual: This query will process 0 bytes\n"
     ]
    },
    {
     "data": {
      "text/html": [
       "<div>\n",
       "<style scoped>\n",
       "    .dataframe tbody tr th:only-of-type {\n",
       "        vertical-align: middle;\n",
       "    }\n",
       "\n",
       "    .dataframe tbody tr th {\n",
       "        vertical-align: top;\n",
       "    }\n",
       "\n",
       "    .dataframe thead th {\n",
       "        text-align: right;\n",
       "    }\n",
       "</style>\n",
       "<table border=\"1\" class=\"dataframe\">\n",
       "  <thead>\n",
       "    <tr style=\"text-align: right;\">\n",
       "      <th></th>\n",
       "      <th>f0_</th>\n",
       "    </tr>\n",
       "  </thead>\n",
       "  <tbody>\n",
       "    <tr>\n",
       "      <th>0</th>\n",
       "      <td>42084899</td>\n",
       "    </tr>\n",
       "  </tbody>\n",
       "</table>\n",
       "</div>"
      ],
      "text/plain": [
       "        f0_\n",
       "0  42084899"
      ]
     },
     "execution_count": 18,
     "metadata": {},
     "output_type": "execute_result"
    }
   ],
   "source": [
    "run_query_bq(client, q1_1, create_table_name=EXTERNAL_TABLE_NAME)\n",
    "run_query_bq(client, q1_2, select_table_name=EXTERNAL_TABLE_NAME) # Answer: 42084899"
   ]
  },
  {
   "cell_type": "markdown",
   "id": "7ad4805d",
   "metadata": {},
   "source": [
    "## Q2\n",
    "\n",
    "**How many distinct dispatching_base_num we have in fhv for 2019?**  "
   ]
  },
  {
   "cell_type": "code",
   "execution_count": 19,
   "id": "a2e41cfa",
   "metadata": {},
   "outputs": [],
   "source": [
    "q2 = \"\"\"\n",
    "SELECT\n",
    "  COUNT(DISTINCT dispatching_base_num)\n",
    "FROM\n",
    "  `{select_table_name}`;\n",
    "\"\"\""
   ]
  },
  {
   "cell_type": "code",
   "execution_count": 20,
   "id": "d7c38b87",
   "metadata": {},
   "outputs": [
    {
     "name": "stdout",
     "output_type": "stream",
     "text": [
      "Estimated: This query will process 0 bytes\n",
      "Actual: This query will process 337526049 bytes\n"
     ]
    },
    {
     "data": {
      "text/html": [
       "<div>\n",
       "<style scoped>\n",
       "    .dataframe tbody tr th:only-of-type {\n",
       "        vertical-align: middle;\n",
       "    }\n",
       "\n",
       "    .dataframe tbody tr th {\n",
       "        vertical-align: top;\n",
       "    }\n",
       "\n",
       "    .dataframe thead th {\n",
       "        text-align: right;\n",
       "    }\n",
       "</style>\n",
       "<table border=\"1\" class=\"dataframe\">\n",
       "  <thead>\n",
       "    <tr style=\"text-align: right;\">\n",
       "      <th></th>\n",
       "      <th>f0_</th>\n",
       "    </tr>\n",
       "  </thead>\n",
       "  <tbody>\n",
       "    <tr>\n",
       "      <th>0</th>\n",
       "      <td>792</td>\n",
       "    </tr>\n",
       "  </tbody>\n",
       "</table>\n",
       "</div>"
      ],
      "text/plain": [
       "   f0_\n",
       "0  792"
      ]
     },
     "execution_count": 20,
     "metadata": {},
     "output_type": "execute_result"
    }
   ],
   "source": [
    "run_query_bq(client, q2, select_table_name=INITIAL_EXTERNAL_TABLE_NAME) # Answer:792"
   ]
  },
  {
   "cell_type": "markdown",
   "id": "24eee7ad",
   "metadata": {},
   "source": [
    "## Q3 and Q4\n",
    "\n",
    "**Q3: Best strategy to optimise if query always filter by dropoff_datetime and order by dispatching_base_num**  \n",
    "\n",
    "**Q4: What is the count, estimated and actual data processed for query which counts trip between 2019/01/01 and 2019/03/31 for dispatching_base_num B00987, B02060, B02279** \n"
   ]
  },
  {
   "cell_type": "code",
   "execution_count": 23,
   "id": "5bc5f4ae",
   "metadata": {},
   "outputs": [],
   "source": [
    "# Create table from external table to being able to compare the estimations\n",
    "\n",
    "table_name_0 = \"fhv_tripdata_2019_non_partitioned\"\n",
    "table_name_1 = \"fhv_tripdata_2019_partitioned_Q3Q4\"\n",
    "table_name_2 = \"fhv_tripdata_2019_partitioned_clustered_Q3Q4\"\n",
    "\n",
    "q3_0 = \"\"\"\n",
    "    CREATE OR REPLACE TABLE\n",
    "      `{create_table_name}` AS\n",
    "    SELECT\n",
    "      *\n",
    "    FROM\n",
    "      `{select_table_name}`;\n",
    "\"\"\"\n",
    "\n",
    "# Create partitioned table by DATE(dropoff_datetime)\n",
    "q3_1 = \"\"\"\n",
    "    CREATE OR REPLACE TABLE\n",
    "      `{create_table_name}`\n",
    "    PARTITION BY\n",
    "      DATE(dropoff_datetime) AS\n",
    "    SELECT\n",
    "      *\n",
    "    FROM\n",
    "      `{select_table_name}`;\n",
    "\"\"\"\n",
    "\n",
    "# Create partitioned+clustered table by DATE(dropoff_datetime) and dispatching_base_num \n",
    "q3_2 = \"\"\"\n",
    "    CREATE OR REPLACE TABLE\n",
    "      `{create_table_name}`\n",
    "    PARTITION BY\n",
    "      DATE(dropoff_datetime)\n",
    "    CLUSTER BY\n",
    "      dispatching_base_num AS\n",
    "    SELECT\n",
    "      *\n",
    "    FROM\n",
    "      `{select_table_name}`;\n",
    "\"\"\"\n"
   ]
  },
  {
   "cell_type": "code",
   "execution_count": 24,
   "id": "c23db29c",
   "metadata": {},
   "outputs": [
    {
     "name": "stdout",
     "output_type": "stream",
     "text": [
      "Estimated: This query will process 0 bytes\n",
      "Actual: This query will process 1706145457 bytes\n",
      "Estimated: This query will process 0 bytes\n",
      "Actual: This query will process 1706145457 bytes\n",
      "Estimated: This query will process 0 bytes\n",
      "Actual: This query will process 1706145457 bytes\n"
     ]
    },
    {
     "data": {
      "text/html": [
       "<div>\n",
       "<style scoped>\n",
       "    .dataframe tbody tr th:only-of-type {\n",
       "        vertical-align: middle;\n",
       "    }\n",
       "\n",
       "    .dataframe tbody tr th {\n",
       "        vertical-align: top;\n",
       "    }\n",
       "\n",
       "    .dataframe thead th {\n",
       "        text-align: right;\n",
       "    }\n",
       "</style>\n",
       "<table border=\"1\" class=\"dataframe\">\n",
       "  <thead>\n",
       "    <tr style=\"text-align: right;\">\n",
       "      <th></th>\n",
       "    </tr>\n",
       "  </thead>\n",
       "  <tbody>\n",
       "  </tbody>\n",
       "</table>\n",
       "</div>"
      ],
      "text/plain": [
       "Empty DataFrame\n",
       "Columns: []\n",
       "Index: []"
      ]
     },
     "execution_count": 24,
     "metadata": {},
     "output_type": "execute_result"
    }
   ],
   "source": [
    "# Create prerequsite tables\n",
    "run_query_bq(client,q3_0, create_table_name=table_name_0,select_table_name=INITIAL_EXTERNAL_TABLE_NAME )\n",
    "run_query_bq(client,q3_1, create_table_name=table_name_1,select_table_name=INITIAL_EXTERNAL_TABLE_NAME )\n",
    "run_query_bq(client,q3_2, create_table_name=table_name_2,select_table_name=INITIAL_EXTERNAL_TABLE_NAME )"
   ]
  },
  {
   "cell_type": "code",
   "execution_count": 25,
   "id": "0cfa6c11",
   "metadata": {},
   "outputs": [],
   "source": [
    "# Compare Non-Partitioned vs Only Partioned\n",
    "# Estimated data to be process: 643 MB (non-partitioned)\n",
    "# Estimated data to be process: 30.1 MB (only partitioned)\n",
    "\n",
    "q3_2 =\"\"\"\n",
    "    SELECT\n",
    "      DISTINCT(dispatching_base_num)\n",
    "    FROM\n",
    "      `{select_table_name}`\n",
    "    WHERE\n",
    "      DATE(dropoff_datetime) BETWEEN '2019-06-01'\n",
    "      AND '2019-06-30';\n",
    "\"\"\""
   ]
  },
  {
   "cell_type": "code",
   "execution_count": 26,
   "id": "bcd772bb",
   "metadata": {},
   "outputs": [
    {
     "name": "stdout",
     "output_type": "stream",
     "text": [
      "Estimated: This query will process 674205241 bytes\n",
      "Actual: This query will process 674205241 bytes\n",
      "Estimated: This query will process 31527600 bytes\n",
      "Actual: This query will process 31527600 bytes\n"
     ]
    },
    {
     "data": {
      "text/html": [
       "<div>\n",
       "<style scoped>\n",
       "    .dataframe tbody tr th:only-of-type {\n",
       "        vertical-align: middle;\n",
       "    }\n",
       "\n",
       "    .dataframe tbody tr th {\n",
       "        vertical-align: top;\n",
       "    }\n",
       "\n",
       "    .dataframe thead th {\n",
       "        text-align: right;\n",
       "    }\n",
       "</style>\n",
       "<table border=\"1\" class=\"dataframe\">\n",
       "  <thead>\n",
       "    <tr style=\"text-align: right;\">\n",
       "      <th></th>\n",
       "      <th>dispatching_base_num</th>\n",
       "    </tr>\n",
       "  </thead>\n",
       "  <tbody>\n",
       "    <tr>\n",
       "      <th>0</th>\n",
       "      <td>B00254</td>\n",
       "    </tr>\n",
       "    <tr>\n",
       "      <th>1</th>\n",
       "      <td>B01674</td>\n",
       "    </tr>\n",
       "    <tr>\n",
       "      <th>2</th>\n",
       "      <td>B02563</td>\n",
       "    </tr>\n",
       "    <tr>\n",
       "      <th>3</th>\n",
       "      <td>B02715</td>\n",
       "    </tr>\n",
       "    <tr>\n",
       "      <th>4</th>\n",
       "      <td>B01066</td>\n",
       "    </tr>\n",
       "    <tr>\n",
       "      <th>...</th>\n",
       "      <td>...</td>\n",
       "    </tr>\n",
       "    <tr>\n",
       "      <th>555</th>\n",
       "      <td>B01482</td>\n",
       "    </tr>\n",
       "    <tr>\n",
       "      <th>556</th>\n",
       "      <td>B01522</td>\n",
       "    </tr>\n",
       "    <tr>\n",
       "      <th>557</th>\n",
       "      <td>B02315</td>\n",
       "    </tr>\n",
       "    <tr>\n",
       "      <th>558</th>\n",
       "      <td>B02956</td>\n",
       "    </tr>\n",
       "    <tr>\n",
       "      <th>559</th>\n",
       "      <td>B02637</td>\n",
       "    </tr>\n",
       "  </tbody>\n",
       "</table>\n",
       "<p>560 rows × 1 columns</p>\n",
       "</div>"
      ],
      "text/plain": [
       "    dispatching_base_num\n",
       "0                 B00254\n",
       "1                 B01674\n",
       "2                 B02563\n",
       "3                 B02715\n",
       "4                 B01066\n",
       "..                   ...\n",
       "555               B01482\n",
       "556               B01522\n",
       "557               B02315\n",
       "558               B02956\n",
       "559               B02637\n",
       "\n",
       "[560 rows x 1 columns]"
      ]
     },
     "execution_count": 26,
     "metadata": {},
     "output_type": "execute_result"
    }
   ],
   "source": [
    "run_query_bq(client, q3_2, select_table_name=table_name_0)\n",
    "run_query_bq(client, q3_2, select_table_name=table_name_1)"
   ]
  },
  {
   "cell_type": "code",
   "execution_count": 27,
   "id": "9d83032c",
   "metadata": {},
   "outputs": [],
   "source": [
    "# Compare Only Partioned vs Partitioned+Clustered\n",
    "# Estimated data to be process: 400.1 MB (only partitioned)\n",
    "\n",
    "# Estimated data to be process: 400.1 MB (partitioned+clustered)\n",
    "# But after the run it process only 133mb\n",
    "\n",
    "q4 = \"\"\"\n",
    "    SELECT\n",
    "      COUNT(*) AS trips\n",
    "    FROM\n",
    "      `{select_table_name}`\n",
    "    WHERE\n",
    "      DATE(dropoff_datetime) BETWEEN '2019-01-01'\n",
    "      AND '2019-03-31'\n",
    "      AND dispatching_base_num IN (\"B00987\",\n",
    "        \"B02060\",\n",
    "        \"B02279\");\n",
    "\"\"\""
   ]
  },
  {
   "cell_type": "code",
   "execution_count": 28,
   "id": "088b5d20",
   "metadata": {},
   "outputs": [
    {
     "name": "stdout",
     "output_type": "stream",
     "text": [
      "Estimated: This query will process 419508706 bytes\n",
      "Actual: This query will process 419508706 bytes\n",
      "Estimated: This query will process 419508706 bytes\n",
      "Actual: This query will process 164308071 bytes\n"
     ]
    },
    {
     "data": {
      "text/html": [
       "<div>\n",
       "<style scoped>\n",
       "    .dataframe tbody tr th:only-of-type {\n",
       "        vertical-align: middle;\n",
       "    }\n",
       "\n",
       "    .dataframe tbody tr th {\n",
       "        vertical-align: top;\n",
       "    }\n",
       "\n",
       "    .dataframe thead th {\n",
       "        text-align: right;\n",
       "    }\n",
       "</style>\n",
       "<table border=\"1\" class=\"dataframe\">\n",
       "  <thead>\n",
       "    <tr style=\"text-align: right;\">\n",
       "      <th></th>\n",
       "      <th>trips</th>\n",
       "    </tr>\n",
       "  </thead>\n",
       "  <tbody>\n",
       "    <tr>\n",
       "      <th>0</th>\n",
       "      <td>26643</td>\n",
       "    </tr>\n",
       "  </tbody>\n",
       "</table>\n",
       "</div>"
      ],
      "text/plain": [
       "   trips\n",
       "0  26643"
      ]
     },
     "execution_count": 28,
     "metadata": {},
     "output_type": "execute_result"
    }
   ],
   "source": [
    "run_query_bq(client, q4, select_table_name=table_name_1)\n",
    "run_query_bq(client, q4, select_table_name=table_name_2) #Answer: 26643"
   ]
  },
  {
   "cell_type": "markdown",
   "id": "706234e1",
   "metadata": {},
   "source": [
    "### Q3 Discover dropoff_datetime"
   ]
  },
  {
   "cell_type": "code",
   "execution_count": 29,
   "id": "da49d7bd",
   "metadata": {},
   "outputs": [],
   "source": [
    "# Here checking if the column is suitable for partiioning\n",
    "# As maximum 4000 partitions allowed in GCP\n",
    "q3_discover_dropoff_datetime_1 = \"\"\"\n",
    "SELECT\n",
    "  COUNT(DISTINCT DATE(dropoff_datetime))\n",
    "FROM\n",
    "  `{select_table_name}`;\n",
    "\"\"\"\n",
    "\n",
    "# To see how droppoff date(dropoff_datetime) is balanced in the table\n",
    "# As we are interested to have balanced partitions/clusters\n",
    "q3_discover_dropoff_datetime_2 = \"\"\"\n",
    "SELECT\n",
    "  DATE(dropoff_datetime) AS dropoff_date,\n",
    "  COUNT(DATE(dropoff_datetime)) AS counter\n",
    "FROM\n",
    "  `{select_table_name}`\n",
    "GROUP BY\n",
    "  dropoff_date\n",
    "ORDER BY\n",
    "  counter DESC;\n",
    "\"\"\""
   ]
  },
  {
   "cell_type": "code",
   "execution_count": 30,
   "id": "a8023e95",
   "metadata": {},
   "outputs": [
    {
     "name": "stdout",
     "output_type": "stream",
     "text": [
      "Estimated: This query will process 0 bytes\n",
      "Actual: This query will process 336679192 bytes\n"
     ]
    },
    {
     "data": {
      "text/html": [
       "<div>\n",
       "<style scoped>\n",
       "    .dataframe tbody tr th:only-of-type {\n",
       "        vertical-align: middle;\n",
       "    }\n",
       "\n",
       "    .dataframe tbody tr th {\n",
       "        vertical-align: top;\n",
       "    }\n",
       "\n",
       "    .dataframe thead th {\n",
       "        text-align: right;\n",
       "    }\n",
       "</style>\n",
       "<table border=\"1\" class=\"dataframe\">\n",
       "  <thead>\n",
       "    <tr style=\"text-align: right;\">\n",
       "      <th></th>\n",
       "      <th>f0_</th>\n",
       "    </tr>\n",
       "  </thead>\n",
       "  <tbody>\n",
       "    <tr>\n",
       "      <th>0</th>\n",
       "      <td>549</td>\n",
       "    </tr>\n",
       "  </tbody>\n",
       "</table>\n",
       "</div>"
      ],
      "text/plain": [
       "   f0_\n",
       "0  549"
      ]
     },
     "execution_count": 30,
     "metadata": {},
     "output_type": "execute_result"
    }
   ],
   "source": [
    "run_query_bq(client, q3_discover_dropoff_datetime_1, select_table_name=INITIAL_EXTERNAL_TABLE_NAME) # Ans:549 therefore suitable for the partitioning as it is < 4000"
   ]
  },
  {
   "cell_type": "code",
   "execution_count": 31,
   "id": "721b7e70",
   "metadata": {},
   "outputs": [
    {
     "name": "stdout",
     "output_type": "stream",
     "text": [
      "Estimated: This query will process 0 bytes\n",
      "Actual: This query will process 336679192 bytes\n"
     ]
    },
    {
     "data": {
      "text/html": [
       "<div>\n",
       "<style scoped>\n",
       "    .dataframe tbody tr th:only-of-type {\n",
       "        vertical-align: middle;\n",
       "    }\n",
       "\n",
       "    .dataframe tbody tr th {\n",
       "        vertical-align: top;\n",
       "    }\n",
       "\n",
       "    .dataframe thead th {\n",
       "        text-align: right;\n",
       "    }\n",
       "</style>\n",
       "<table border=\"1\" class=\"dataframe\">\n",
       "  <thead>\n",
       "    <tr style=\"text-align: right;\">\n",
       "      <th></th>\n",
       "      <th>dropoff_date</th>\n",
       "      <th>counter</th>\n",
       "    </tr>\n",
       "  </thead>\n",
       "  <tbody>\n",
       "    <tr>\n",
       "      <th>0</th>\n",
       "      <td>2019-01-26</td>\n",
       "      <td>925126</td>\n",
       "    </tr>\n",
       "    <tr>\n",
       "      <th>1</th>\n",
       "      <td>2019-01-12</td>\n",
       "      <td>888643</td>\n",
       "    </tr>\n",
       "    <tr>\n",
       "      <th>2</th>\n",
       "      <td>2019-01-31</td>\n",
       "      <td>888211</td>\n",
       "    </tr>\n",
       "    <tr>\n",
       "      <th>3</th>\n",
       "      <td>2019-01-25</td>\n",
       "      <td>850977</td>\n",
       "    </tr>\n",
       "    <tr>\n",
       "      <th>4</th>\n",
       "      <td>2019-01-19</td>\n",
       "      <td>845616</td>\n",
       "    </tr>\n",
       "    <tr>\n",
       "      <th>...</th>\n",
       "      <td>...</td>\n",
       "      <td>...</td>\n",
       "    </tr>\n",
       "    <tr>\n",
       "      <th>544</th>\n",
       "      <td>2027-07-01</td>\n",
       "      <td>1</td>\n",
       "    </tr>\n",
       "    <tr>\n",
       "      <th>545</th>\n",
       "      <td>2919-04-14</td>\n",
       "      <td>1</td>\n",
       "    </tr>\n",
       "    <tr>\n",
       "      <th>546</th>\n",
       "      <td>2109-05-12</td>\n",
       "      <td>1</td>\n",
       "    </tr>\n",
       "    <tr>\n",
       "      <th>547</th>\n",
       "      <td>2109-05-15</td>\n",
       "      <td>1</td>\n",
       "    </tr>\n",
       "    <tr>\n",
       "      <th>548</th>\n",
       "      <td>2029-06-10</td>\n",
       "      <td>1</td>\n",
       "    </tr>\n",
       "  </tbody>\n",
       "</table>\n",
       "<p>549 rows × 2 columns</p>\n",
       "</div>"
      ],
      "text/plain": [
       "    dropoff_date  counter\n",
       "0     2019-01-26   925126\n",
       "1     2019-01-12   888643\n",
       "2     2019-01-31   888211\n",
       "3     2019-01-25   850977\n",
       "4     2019-01-19   845616\n",
       "..           ...      ...\n",
       "544   2027-07-01        1\n",
       "545   2919-04-14        1\n",
       "546   2109-05-12        1\n",
       "547   2109-05-15        1\n",
       "548   2029-06-10        1\n",
       "\n",
       "[549 rows x 2 columns]"
      ]
     },
     "execution_count": 31,
     "metadata": {},
     "output_type": "execute_result"
    }
   ],
   "source": [
    "run_query_bq(client, q3_discover_dropoff_datetime_2, select_table_name=INITIAL_EXTERNAL_TABLE_NAME )"
   ]
  },
  {
   "cell_type": "markdown",
   "id": "1075a5d2",
   "metadata": {},
   "source": [
    "### Q3 Discover dispatching_base_num"
   ]
  },
  {
   "cell_type": "code",
   "execution_count": 32,
   "id": "cc2389c3",
   "metadata": {},
   "outputs": [],
   "source": [
    "q3_discover_dispatching_base_num = \"\"\"\n",
    "    SELECT\n",
    "      `dispatching_base_num`,\n",
    "      COUNT(dispatching_base_num) AS counter\n",
    "    FROM\n",
    "      `{select_table_name}`\n",
    "    GROUP BY\n",
    "      dispatching_base_num\n",
    "    ORDER BY\n",
    "      counter DESC;\n",
    "\"\"\""
   ]
  },
  {
   "cell_type": "code",
   "execution_count": 33,
   "id": "ea289aa5",
   "metadata": {},
   "outputs": [
    {
     "name": "stdout",
     "output_type": "stream",
     "text": [
      "Estimated: This query will process 0 bytes\n",
      "Actual: This query will process 337526049 bytes\n"
     ]
    },
    {
     "data": {
      "text/html": [
       "<div>\n",
       "<style scoped>\n",
       "    .dataframe tbody tr th:only-of-type {\n",
       "        vertical-align: middle;\n",
       "    }\n",
       "\n",
       "    .dataframe tbody tr th {\n",
       "        vertical-align: top;\n",
       "    }\n",
       "\n",
       "    .dataframe thead th {\n",
       "        text-align: right;\n",
       "    }\n",
       "</style>\n",
       "<table border=\"1\" class=\"dataframe\">\n",
       "  <thead>\n",
       "    <tr style=\"text-align: right;\">\n",
       "      <th></th>\n",
       "      <th>dispatching_base_num</th>\n",
       "      <th>counter</th>\n",
       "    </tr>\n",
       "  </thead>\n",
       "  <tbody>\n",
       "    <tr>\n",
       "      <th>0</th>\n",
       "      <td>B02510</td>\n",
       "      <td>4623412</td>\n",
       "    </tr>\n",
       "    <tr>\n",
       "      <th>1</th>\n",
       "      <td>B02764</td>\n",
       "      <td>1662983</td>\n",
       "    </tr>\n",
       "    <tr>\n",
       "      <th>2</th>\n",
       "      <td>B02765</td>\n",
       "      <td>1059883</td>\n",
       "    </tr>\n",
       "    <tr>\n",
       "      <th>3</th>\n",
       "      <td>B02875</td>\n",
       "      <td>1009567</td>\n",
       "    </tr>\n",
       "    <tr>\n",
       "      <th>4</th>\n",
       "      <td>B02800</td>\n",
       "      <td>1004974</td>\n",
       "    </tr>\n",
       "    <tr>\n",
       "      <th>...</th>\n",
       "      <td>...</td>\n",
       "      <td>...</td>\n",
       "    </tr>\n",
       "    <tr>\n",
       "      <th>787</th>\n",
       "      <td>B03237</td>\n",
       "      <td>1</td>\n",
       "    </tr>\n",
       "    <tr>\n",
       "      <th>788</th>\n",
       "      <td>B03241</td>\n",
       "      <td>1</td>\n",
       "    </tr>\n",
       "    <tr>\n",
       "      <th>789</th>\n",
       "      <td>B03242</td>\n",
       "      <td>1</td>\n",
       "    </tr>\n",
       "    <tr>\n",
       "      <th>790</th>\n",
       "      <td>B03245</td>\n",
       "      <td>1</td>\n",
       "    </tr>\n",
       "    <tr>\n",
       "      <th>791</th>\n",
       "      <td>B03247</td>\n",
       "      <td>1</td>\n",
       "    </tr>\n",
       "  </tbody>\n",
       "</table>\n",
       "<p>792 rows × 2 columns</p>\n",
       "</div>"
      ],
      "text/plain": [
       "    dispatching_base_num  counter\n",
       "0                 B02510  4623412\n",
       "1                 B02764  1662983\n",
       "2                 B02765  1059883\n",
       "3                 B02875  1009567\n",
       "4                 B02800  1004974\n",
       "..                   ...      ...\n",
       "787               B03237        1\n",
       "788               B03241        1\n",
       "789               B03242        1\n",
       "790               B03245        1\n",
       "791               B03247        1\n",
       "\n",
       "[792 rows x 2 columns]"
      ]
     },
     "execution_count": 33,
     "metadata": {},
     "output_type": "execute_result"
    }
   ],
   "source": [
    "run_query_bq(client, q3_discover_dispatching_base_num, select_table_name = INITIAL_EXTERNAL_TABLE_NAME)"
   ]
  },
  {
   "cell_type": "markdown",
   "id": "b7bcc58f",
   "metadata": {},
   "source": [
    "## Q5"
   ]
  },
  {
   "cell_type": "code",
   "execution_count": 37,
   "id": "3a2717e7",
   "metadata": {},
   "outputs": [],
   "source": [
    "# Create clustered table by dispatching_base_num and SR_Flag\n",
    "\n",
    "table_name_q5_1=\"fhv_tripdata_2019_partitioned_clustered_Q5\"\n",
    "\n",
    "q5_1 = \"\"\"\n",
    "    CREATE OR REPLACE TABLE\n",
    "      `{create_table_name}`\n",
    "    CLUSTER BY\n",
    "      dispatching_base_num,\n",
    "      SR_Flag AS\n",
    "    SELECT\n",
    "      *\n",
    "    FROM\n",
    "      `{select_table_name}`;\n",
    "\"\"\""
   ]
  },
  {
   "cell_type": "code",
   "execution_count": 38,
   "id": "c7bbe195",
   "metadata": {},
   "outputs": [
    {
     "name": "stdout",
     "output_type": "stream",
     "text": [
      "Estimated: This query will process 0 bytes\n",
      "Actual: This query will process 1706145457 bytes\n"
     ]
    },
    {
     "data": {
      "text/html": [
       "<div>\n",
       "<style scoped>\n",
       "    .dataframe tbody tr th:only-of-type {\n",
       "        vertical-align: middle;\n",
       "    }\n",
       "\n",
       "    .dataframe tbody tr th {\n",
       "        vertical-align: top;\n",
       "    }\n",
       "\n",
       "    .dataframe thead th {\n",
       "        text-align: right;\n",
       "    }\n",
       "</style>\n",
       "<table border=\"1\" class=\"dataframe\">\n",
       "  <thead>\n",
       "    <tr style=\"text-align: right;\">\n",
       "      <th></th>\n",
       "    </tr>\n",
       "  </thead>\n",
       "  <tbody>\n",
       "  </tbody>\n",
       "</table>\n",
       "</div>"
      ],
      "text/plain": [
       "Empty DataFrame\n",
       "Columns: []\n",
       "Index: []"
      ]
     },
     "execution_count": 38,
     "metadata": {},
     "output_type": "execute_result"
    }
   ],
   "source": [
    "run_query_bq(client ,q5_1, create_table_name=table_name_q5_1, select_table_name = INITIAL_EXTERNAL_TABLE_NAME)"
   ]
  },
  {
   "cell_type": "code",
   "execution_count": 41,
   "id": "9cbe29c5",
   "metadata": {},
   "outputs": [],
   "source": [
    "# Compare Non Partioned vs Clustered\n",
    "# Estimated data to be process: 363 MB (non partitioned)\n",
    "\n",
    "# Estimated data to be process: 363 MB(partitioned+clustered)\n",
    "# But after the run it process only 9,9mb\n",
    "\n",
    "table_name_q5_2_1=\"fhv_tripdata_2019_non_partitioned\"\n",
    "table_name_q5_2_2=\"fhv_tripdata_2019_partitioned_clustered_Q5\"\n",
    "\n",
    "q5_2 = \"\"\"\n",
    "    SELECT\n",
    "      COUNT(*) AS trips\n",
    "    FROM\n",
    "      `{select_table_name}`\n",
    "    WHERE\n",
    "      SR_Flag=5\n",
    "      AND dispatching_base_num IN (\"B00987\",\n",
    "        \"B02060\",\n",
    "        \"B02279\");\n",
    "\"\"\""
   ]
  },
  {
   "cell_type": "code",
   "execution_count": 42,
   "id": "75e2a4c0",
   "metadata": {},
   "outputs": [
    {
     "name": "stdout",
     "output_type": "stream",
     "text": [
      "Estimated: This query will process 380595129 bytes\n",
      "Actual: This query will process 380595129 bytes\n",
      "Estimated: This query will process 380595129 bytes\n",
      "Actual: This query will process 7605181 bytes\n"
     ]
    },
    {
     "data": {
      "text/html": [
       "<div>\n",
       "<style scoped>\n",
       "    .dataframe tbody tr th:only-of-type {\n",
       "        vertical-align: middle;\n",
       "    }\n",
       "\n",
       "    .dataframe tbody tr th {\n",
       "        vertical-align: top;\n",
       "    }\n",
       "\n",
       "    .dataframe thead th {\n",
       "        text-align: right;\n",
       "    }\n",
       "</style>\n",
       "<table border=\"1\" class=\"dataframe\">\n",
       "  <thead>\n",
       "    <tr style=\"text-align: right;\">\n",
       "      <th></th>\n",
       "      <th>trips</th>\n",
       "    </tr>\n",
       "  </thead>\n",
       "  <tbody>\n",
       "    <tr>\n",
       "      <th>0</th>\n",
       "      <td>0</td>\n",
       "    </tr>\n",
       "  </tbody>\n",
       "</table>\n",
       "</div>"
      ],
      "text/plain": [
       "   trips\n",
       "0      0"
      ]
     },
     "execution_count": 42,
     "metadata": {},
     "output_type": "execute_result"
    }
   ],
   "source": [
    "run_query_bq(client, q5_2, select_table_name=table_name_q5_2_1)\n",
    "run_query_bq(client, q5_2, select_table_name=table_name_q5_2_2)"
   ]
  },
  {
   "cell_type": "markdown",
   "id": "237e1146",
   "metadata": {},
   "source": [
    "### Q5 Discover SR_FLAG"
   ]
  },
  {
   "cell_type": "code",
   "execution_count": 43,
   "id": "aabe89bd",
   "metadata": {},
   "outputs": [],
   "source": [
    "q5_discover_sr_flag = \"\"\"\n",
    "    SELECT\n",
    "      `SR_Flag`,\n",
    "      COUNT(SR_Flag) AS counter\n",
    "    FROM\n",
    "      `{select_table_name}`\n",
    "    GROUP BY\n",
    "      SR_Flag\n",
    "    ORDER BY\n",
    "      counter DESC;\n",
    "\"\"\""
   ]
  },
  {
   "cell_type": "code",
   "execution_count": null,
   "id": "ae7d9a81",
   "metadata": {},
   "outputs": [
    {
     "name": "stdout",
     "output_type": "stream",
     "text": [
      "Estimated: This query will process 0 bytes\n"
     ]
    }
   ],
   "source": [
    "run_query_bq(client, q5_discover_sr_flag, select_table_name = INITIAL_EXTERNAL_TABLE_NAME)"
   ]
  },
  {
   "cell_type": "markdown",
   "id": "92c93e64",
   "metadata": {},
   "source": [
    "## Q6\n",
    "\n",
    "**What improvements can be seen by partitioning and clustering for data size less than 1 GB?**\n",
    "\n",
    "\n",
    "For the data less than 1GB partitioning and clustering does not add imporevements but cost as the metadata needs to processed additionally."
   ]
  },
  {
   "cell_type": "markdown",
   "id": "a025a9a4",
   "metadata": {},
   "source": [
    "## Q7\n",
    "\n",
    "**In which format does BigQuery save data**\n",
    "\n",
    "In Columnar format"
   ]
  }
 ],
 "metadata": {
  "kernelspec": {
   "display_name": "Python 3 (ipykernel)",
   "language": "python",
   "name": "python3"
  },
  "language_info": {
   "codemirror_mode": {
    "name": "ipython",
    "version": 3
   },
   "file_extension": ".py",
   "mimetype": "text/x-python",
   "name": "python",
   "nbconvert_exporter": "python",
   "pygments_lexer": "ipython3",
   "version": "3.9.10"
  }
 },
 "nbformat": 4,
 "nbformat_minor": 5
}
