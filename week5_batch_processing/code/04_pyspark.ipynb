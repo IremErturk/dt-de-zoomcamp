{
 "cells": [
  {
   "cell_type": "code",
   "execution_count": 7,
   "id": "07de9dc3",
   "metadata": {},
   "outputs": [],
   "source": [
    "import pyspark\n",
    "from pyspark.sql import SparkSession"
   ]
  },
  {
   "cell_type": "code",
   "execution_count": 8,
   "id": "ca5bbb06",
   "metadata": {},
   "outputs": [],
   "source": [
    "spark = SparkSession.builder \\\n",
    "    .master(\"local[*]\") \\\n",
    "    .appName('test') \\\n",
    "    .getOrCreate()"
   ]
  },
  {
   "cell_type": "code",
   "execution_count": 9,
   "id": "cf8de204",
   "metadata": {},
   "outputs": [
    {
     "name": "stdout",
     "output_type": "stream",
     "text": [
      "--2022-02-24 14:04:55--  https://nyc-tlc.s3.amazonaws.com/trip+data/fhvhv_tripdata_2021-01.csv\n",
      "Resolving nyc-tlc.s3.amazonaws.com (nyc-tlc.s3.amazonaws.com)... 54.231.204.81\n",
      "Connecting to nyc-tlc.s3.amazonaws.com (nyc-tlc.s3.amazonaws.com)|54.231.204.81|:443... connected.\n",
      "HTTP request sent, awaiting response... 200 OK\n",
      "Length: 752335705 (717M) [text/csv]\n",
      "Saving to: ‘fhvhv_tripdata_2021-01.csv.1’\n",
      "\n",
      "fhvhv_tripdata_2021 100%[===================>] 717,48M  10,1MB/s    in 79s     \n",
      "\n",
      "2022-02-24 14:06:15 (9,06 MB/s) - ‘fhvhv_tripdata_2021-01.csv.1’ saved [752335705/752335705]\n",
      "\n"
     ]
    }
   ],
   "source": [
    "!wget https://nyc-tlc.s3.amazonaws.com/trip+data/fhvhv_tripdata_2021-01.csv"
   ]
  },
  {
   "cell_type": "code",
   "execution_count": 13,
   "id": "2a52087c",
   "metadata": {},
   "outputs": [
    {
     "name": "stdout",
     "output_type": "stream",
     "text": [
      " 11908469 fhvhv_tripdata_2021-01.csv\r\n"
     ]
    }
   ],
   "source": [
    "!wc -l fhvhv_tripdata_2021-01.csv"
   ]
  },
  {
   "cell_type": "code",
   "execution_count": 14,
   "id": "931021a7",
   "metadata": {},
   "outputs": [],
   "source": [
    "df = spark.read \\\n",
    "    .option(\"header\", \"true\") \\\n",
    "    .csv('fhvhv_tripdata_2021-01.csv')"
   ]
  },
  {
   "cell_type": "code",
   "execution_count": 26,
   "id": "f0745203",
   "metadata": {},
   "outputs": [
    {
     "name": "stderr",
     "output_type": "stream",
     "text": [
      "                                                                                \r"
     ]
    },
    {
     "data": {
      "text/plain": [
       "[Row(hvfhs_license_num='HV0003', dispatching_base_num='B02866', pickup_datetime=datetime.datetime(2021, 1, 3, 8, 53, 52), dropoff_datetime=datetime.datetime(2021, 1, 3, 8, 59, 41), PULocationID=37, DOLocationID=36, SR_Flag=None),\n",
       " Row(hvfhs_license_num='HV0003', dispatching_base_num='B02835', pickup_datetime=datetime.datetime(2021, 1, 3, 7, 12, 6), dropoff_datetime=datetime.datetime(2021, 1, 3, 7, 17, 5), PULocationID=80, DOLocationID=37, SR_Flag=None),\n",
       " Row(hvfhs_license_num='HV0003', dispatching_base_num='B02617', pickup_datetime=datetime.datetime(2021, 1, 2, 13, 6, 4), dropoff_datetime=datetime.datetime(2021, 1, 2, 13, 30, 17), PULocationID=181, DOLocationID=249, SR_Flag=None),\n",
       " Row(hvfhs_license_num='HV0003', dispatching_base_num='B02875', pickup_datetime=datetime.datetime(2021, 1, 1, 3, 35, 52), dropoff_datetime=datetime.datetime(2021, 1, 1, 3, 46, 17), PULocationID=213, DOLocationID=32, SR_Flag=None),\n",
       " Row(hvfhs_license_num='HV0003', dispatching_base_num='B02872', pickup_datetime=datetime.datetime(2021, 1, 1, 22, 15, 45), dropoff_datetime=datetime.datetime(2021, 1, 1, 22, 19, 50), PULocationID=223, DOLocationID=223, SR_Flag=None)]"
      ]
     },
     "execution_count": 26,
     "metadata": {},
     "output_type": "execute_result"
    }
   ],
   "source": [
    "df.head(5)\n",
    "# Unlike pandas, Spark does evaluate the types automatically \n",
    "# therefore in below we are seeing dates, etc all set as string (Hmm maybe in old versions ;D)"
   ]
  },
  {
   "cell_type": "code",
   "execution_count": 27,
   "id": "d44b7839",
   "metadata": {},
   "outputs": [
    {
     "data": {
      "text/plain": [
       "StructType(List(StructField(hvfhs_license_num,StringType,true),StructField(dispatching_base_num,StringType,true),StructField(pickup_datetime,TimestampType,true),StructField(dropoff_datetime,TimestampType,true),StructField(PULocationID,IntegerType,true),StructField(DOLocationID,IntegerType,true),StructField(SR_Flag,StringType,true)))"
      ]
     },
     "execution_count": 27,
     "metadata": {},
     "output_type": "execute_result"
    }
   ],
   "source": [
    "df.schema"
   ]
  },
  {
   "cell_type": "code",
   "execution_count": 28,
   "id": "4249e790",
   "metadata": {},
   "outputs": [],
   "source": [
    "# Keep 1001 rowa in the file and save/create in head.csv\n",
    "!head -n 1001 fhvhv_tripdata_2021-01.csv > head.csv"
   ]
  },
  {
   "cell_type": "code",
   "execution_count": 29,
   "id": "6894312c",
   "metadata": {},
   "outputs": [],
   "source": [
    "import pandas as pd"
   ]
  },
  {
   "cell_type": "code",
   "execution_count": 31,
   "id": "f3ca771b",
   "metadata": {},
   "outputs": [],
   "source": [
    "df_pandas = pd.read_csv('head.csv')"
   ]
  },
  {
   "cell_type": "code",
   "execution_count": 32,
   "id": "f1066b4f",
   "metadata": {},
   "outputs": [
    {
     "data": {
      "text/plain": [
       "hvfhs_license_num        object\n",
       "dispatching_base_num     object\n",
       "pickup_datetime          object\n",
       "dropoff_datetime         object\n",
       "PULocationID              int64\n",
       "DOLocationID              int64\n",
       "SR_Flag                 float64\n",
       "dtype: object"
      ]
     },
     "execution_count": 32,
     "metadata": {},
     "output_type": "execute_result"
    }
   ],
   "source": [
    "df_pandas.dtypes"
   ]
  },
  {
   "cell_type": "code",
   "execution_count": 33,
   "id": "f8413c9d",
   "metadata": {},
   "outputs": [
    {
     "data": {
      "text/plain": [
       "StructType(List(StructField(hvfhs_license_num,StringType,true),StructField(dispatching_base_num,StringType,true),StructField(pickup_datetime,StringType,true),StructField(dropoff_datetime,StringType,true),StructField(PULocationID,LongType,true),StructField(DOLocationID,LongType,true),StructField(SR_Flag,DoubleType,true)))"
      ]
     },
     "execution_count": 33,
     "metadata": {},
     "output_type": "execute_result"
    }
   ],
   "source": [
    "spark.createDataFrame(df_pandas).schema\n",
    "# Int takes 4bytes, Long takes 8 bytes"
   ]
  },
  {
   "cell_type": "markdown",
   "id": "80f252c1",
   "metadata": {},
   "source": [
    "Integer - 4 bytes\n",
    "Long - 8 bytes"
   ]
  },
  {
   "cell_type": "code",
   "execution_count": 34,
   "id": "16937bfd",
   "metadata": {},
   "outputs": [],
   "source": [
    "from pyspark.sql import types"
   ]
  },
  {
   "cell_type": "code",
   "execution_count": 36,
   "id": "fc61a99a",
   "metadata": {},
   "outputs": [],
   "source": [
    "schema = types.StructType([\n",
    "    types.StructField('hvfhs_license_num', types.StringType(), True),\n",
    "    types.StructField('dispatching_base_num', types.StringType(), True),\n",
    "    types.StructField('pickup_datetime', types.TimestampType(), True),\n",
    "    types.StructField('dropoff_datetime', types.TimestampType(), True),\n",
    "    types.StructField('PULocationID', types.IntegerType(), True),\n",
    "    types.StructField('DOLocationID', types.IntegerType(), True),\n",
    "    types.StructField('SR_Flag', types.StringType(), True)\n",
    "])"
   ]
  },
  {
   "cell_type": "code",
   "execution_count": 37,
   "id": "f94052ae",
   "metadata": {},
   "outputs": [],
   "source": [
    "df = spark.read \\\n",
    "    .option(\"header\", \"true\") \\\n",
    "    .schema(schema) \\\n",
    "    .csv('fhvhv_tripdata_2021-01.csv')"
   ]
  },
  {
   "cell_type": "code",
   "execution_count": 38,
   "id": "c270d9d6",
   "metadata": {},
   "outputs": [],
   "source": [
    "# Idea of repartitioning is to distribute computation in different Spark processors/executors\n",
    "df = df.repartition(24) # mode=\"overwrite\""
   ]
  },
  {
   "cell_type": "code",
   "execution_count": 40,
   "id": "7796c2b2",
   "metadata": {},
   "outputs": [
    {
     "name": "stderr",
     "output_type": "stream",
     "text": [
      "22/02/24 14:42:32 WARN MemoryManager: Total allocation exceeds 95.00% (934,884,135 bytes) of heap memory\n",
      "Scaling row group sizes to 99.51% for 7 writers\n",
      "22/02/24 14:42:32 WARN MemoryManager: Total allocation exceeds 95.00% (934,884,135 bytes) of heap memory\n",
      "Scaling row group sizes to 87.07% for 8 writers\n",
      "22/02/24 14:42:32 WARN MemoryManager: Total allocation exceeds 95.00% (934,884,135 bytes) of heap memory\n",
      "Scaling row group sizes to 77.39% for 9 writers\n",
      "22/02/24 14:42:32 WARN MemoryManager: Total allocation exceeds 95.00% (934,884,135 bytes) of heap memory\n",
      "Scaling row group sizes to 69.65% for 10 writers\n",
      "22/02/24 14:42:32 WARN MemoryManager: Total allocation exceeds 95.00% (934,884,135 bytes) of heap memory\n",
      "Scaling row group sizes to 63.32% for 11 writers\n",
      "22/02/24 14:42:32 WARN MemoryManager: Total allocation exceeds 95.00% (934,884,135 bytes) of heap memory\n",
      "Scaling row group sizes to 58.05% for 12 writers\n",
      "22/02/24 14:42:34 WARN MemoryManager: Total allocation exceeds 95.00% (934,884,135 bytes) of heap memory\n",
      "Scaling row group sizes to 63.32% for 11 writers\n",
      "22/02/24 14:42:34 WARN MemoryManager: Total allocation exceeds 95.00% (934,884,135 bytes) of heap memory\n",
      "Scaling row group sizes to 69.65% for 10 writers\n",
      "22/02/24 14:42:34 WARN MemoryManager: Total allocation exceeds 95.00% (934,884,135 bytes) of heap memory\n",
      "Scaling row group sizes to 77.39% for 9 writers\n",
      "22/02/24 14:42:34 WARN MemoryManager: Total allocation exceeds 95.00% (934,884,135 bytes) of heap memory\n",
      "Scaling row group sizes to 87.07% for 8 writers\n",
      "22/02/24 14:42:34 WARN MemoryManager: Total allocation exceeds 95.00% (934,884,135 bytes) of heap memory\n",
      "Scaling row group sizes to 99.51% for 7 writers\n",
      "22/02/24 14:42:34 WARN MemoryManager: Total allocation exceeds 95.00% (934,884,135 bytes) of heap memory\n",
      "Scaling row group sizes to 99.51% for 7 writers\n",
      "22/02/24 14:42:34 WARN MemoryManager: Total allocation exceeds 95.00% (934,884,135 bytes) of heap memory\n",
      "Scaling row group sizes to 87.07% for 8 writers\n",
      "22/02/24 14:42:34 WARN MemoryManager: Total allocation exceeds 95.00% (934,884,135 bytes) of heap memory\n",
      "Scaling row group sizes to 77.39% for 9 writers\n",
      "22/02/24 14:42:34 WARN MemoryManager: Total allocation exceeds 95.00% (934,884,135 bytes) of heap memory\n",
      "Scaling row group sizes to 69.65% for 10 writers\n",
      "22/02/24 14:42:34 WARN MemoryManager: Total allocation exceeds 95.00% (934,884,135 bytes) of heap memory\n",
      "Scaling row group sizes to 63.32% for 11 writers\n",
      "22/02/24 14:42:34 WARN MemoryManager: Total allocation exceeds 95.00% (934,884,135 bytes) of heap memory\n",
      "Scaling row group sizes to 58.05% for 12 writers\n",
      "22/02/24 14:42:38 WARN MemoryManager: Total allocation exceeds 95.00% (934,884,135 bytes) of heap memory\n",
      "Scaling row group sizes to 63.32% for 11 writers\n",
      "22/02/24 14:42:38 WARN MemoryManager: Total allocation exceeds 95.00% (934,884,135 bytes) of heap memory\n",
      "Scaling row group sizes to 69.65% for 10 writers\n",
      "22/02/24 14:42:38 WARN MemoryManager: Total allocation exceeds 95.00% (934,884,135 bytes) of heap memory\n",
      "Scaling row group sizes to 77.39% for 9 writers\n",
      "22/02/24 14:42:38 WARN MemoryManager: Total allocation exceeds 95.00% (934,884,135 bytes) of heap memory\n",
      "Scaling row group sizes to 87.07% for 8 writers\n",
      "22/02/24 14:42:38 WARN MemoryManager: Total allocation exceeds 95.00% (934,884,135 bytes) of heap memory\n",
      "Scaling row group sizes to 99.51% for 7 writers\n",
      "                                                                                \r"
     ]
    }
   ],
   "source": [
    "df.write.parquet('fhvhv/2021/01/')"
   ]
  },
  {
   "cell_type": "code",
   "execution_count": 52,
   "id": "c3cab876",
   "metadata": {},
   "outputs": [],
   "source": [
    "df = spark.read.parquet('fhvhv/2021/01/')"
   ]
  },
  {
   "cell_type": "code",
   "execution_count": 53,
   "id": "203b5627",
   "metadata": {},
   "outputs": [
    {
     "name": "stdout",
     "output_type": "stream",
     "text": [
      "root\n",
      " |-- hvfhs_license_num: string (nullable = true)\n",
      " |-- dispatching_base_num: string (nullable = true)\n",
      " |-- pickup_datetime: timestamp (nullable = true)\n",
      " |-- dropoff_datetime: timestamp (nullable = true)\n",
      " |-- PULocationID: integer (nullable = true)\n",
      " |-- DOLocationID: integer (nullable = true)\n",
      " |-- SR_Flag: string (nullable = true)\n",
      "\n"
     ]
    }
   ],
   "source": [
    "df.printSchema()"
   ]
  },
  {
   "cell_type": "markdown",
   "id": "64172a47",
   "metadata": {},
   "source": [
    "SELECT * FROM df WHERE hvfhs_license_num =  HV0003"
   ]
  },
  {
   "cell_type": "code",
   "execution_count": 43,
   "id": "d24840a0",
   "metadata": {},
   "outputs": [],
   "source": [
    "from pyspark.sql import functions as F"
   ]
  },
  {
   "cell_type": "code",
   "execution_count": 54,
   "id": "3ab1ca44",
   "metadata": {
    "scrolled": true
   },
   "outputs": [
    {
     "name": "stdout",
     "output_type": "stream",
     "text": [
      "+-----------------+--------------------+-------------------+-------------------+------------+------------+-------+\n",
      "|hvfhs_license_num|dispatching_base_num|    pickup_datetime|   dropoff_datetime|PULocationID|DOLocationID|SR_Flag|\n",
      "+-----------------+--------------------+-------------------+-------------------+------------+------------+-------+\n",
      "|           HV0005|              B02510|2021-01-03 10:26:53|2021-01-03 10:56:53|         179|          48|   null|\n",
      "|           HV0005|              B02510|2021-01-01 17:45:58|2021-01-01 18:11:41|         228|         114|   null|\n",
      "|           HV0005|              B02510|2021-01-01 14:17:55|2021-01-01 14:23:24|          26|          26|   null|\n",
      "|           HV0003|              B02864|2021-01-01 20:09:27|2021-01-01 20:24:01|         159|          60|   null|\n",
      "|           HV0003|              B02875|2021-01-03 12:18:07|2021-01-03 12:25:59|         226|         145|   null|\n",
      "|           HV0005|              B02510|2021-01-03 05:30:44|2021-01-03 05:34:48|         244|         244|   null|\n",
      "|           HV0003|              B02871|2021-01-03 11:42:37|2021-01-03 11:47:25|         234|         224|   null|\n",
      "|           HV0005|              B02510|2021-01-02 16:42:44|2021-01-02 16:52:47|          47|         159|   null|\n",
      "|           HV0003|              B02882|2021-01-01 17:40:51|2021-01-01 17:49:27|          82|         157|   null|\n",
      "|           HV0003|              B02682|2021-01-01 06:18:08|2021-01-01 06:40:21|         223|         198|   null|\n",
      "|           HV0003|              B02872|2021-01-01 18:15:13|2021-01-01 18:21:26|         246|          48|   null|\n",
      "|           HV0005|              B02510|2021-01-01 16:54:27|2021-01-01 17:02:38|          65|          25|   null|\n",
      "|           HV0003|              B02878|2021-01-01 16:49:01|2021-01-01 17:06:58|          13|         230|   null|\n",
      "|           HV0005|              B02510|2021-01-03 12:59:20|2021-01-03 13:17:07|         228|          61|   null|\n",
      "|           HV0003|              B02872|2021-01-02 16:56:14|2021-01-02 17:13:41|          33|          89|   null|\n",
      "|           HV0003|              B02884|2021-01-02 15:33:12|2021-01-02 15:56:34|         190|          87|   null|\n",
      "|           HV0005|              B02510|2021-01-02 11:43:59|2021-01-02 11:58:51|         244|         243|   null|\n",
      "|           HV0003|              B02765|2021-01-01 12:37:42|2021-01-01 12:45:35|         218|         132|   null|\n",
      "|           HV0003|              B02875|2021-01-03 15:50:23|2021-01-03 16:01:30|          76|          35|   null|\n",
      "|           HV0003|              B02875|2021-01-02 22:56:02|2021-01-02 23:10:02|          89|         149|   null|\n",
      "+-----------------+--------------------+-------------------+-------------------+------------+------------+-------+\n",
      "only showing top 20 rows\n",
      "\n"
     ]
    }
   ],
   "source": [
    "df.show()"
   ]
  },
  {
   "cell_type": "code",
   "execution_count": 45,
   "id": "6d98c2ce",
   "metadata": {},
   "outputs": [],
   "source": [
    "def crazy_stuff(base_num):\n",
    "    num = int(base_num[1:])\n",
    "    if num % 7 == 0:\n",
    "        return f's/{num:03x}'\n",
    "    elif num % 3 == 0:\n",
    "        return f'a/{num:03x}'\n",
    "    else:\n",
    "        return f'e/{num:03x}'"
   ]
  },
  {
   "cell_type": "code",
   "execution_count": 46,
   "id": "f3175419",
   "metadata": {},
   "outputs": [
    {
     "data": {
      "text/plain": [
       "'s/b44'"
      ]
     },
     "execution_count": 46,
     "metadata": {},
     "output_type": "execute_result"
    }
   ],
   "source": [
    "crazy_stuff('B02884')"
   ]
  },
  {
   "cell_type": "code",
   "execution_count": 47,
   "id": "9bb5d503",
   "metadata": {},
   "outputs": [],
   "source": [
    "# register the python function as udf\n",
    "crazy_stuff_udf = F.udf(crazy_stuff, returnType=types.StringType())"
   ]
  },
  {
   "cell_type": "code",
   "execution_count": 48,
   "id": "b38f0465",
   "metadata": {
    "scrolled": true
   },
   "outputs": [
    {
     "name": "stdout",
     "output_type": "stream",
     "text": [
      "+-------+-----------+------------+------------+------------+\n",
      "|base_id|pickup_date|dropoff_date|PULocationID|DOLocationID|\n",
      "+-------+-----------+------------+------------+------------+\n",
      "|  e/9ce| 2021-01-03|  2021-01-03|         179|          48|\n",
      "|  e/9ce| 2021-01-01|  2021-01-01|         228|         114|\n",
      "|  e/9ce| 2021-01-01|  2021-01-01|          26|          26|\n",
      "|  e/b30| 2021-01-01|  2021-01-01|         159|          60|\n",
      "|  e/b3b| 2021-01-03|  2021-01-03|         226|         145|\n",
      "|  e/9ce| 2021-01-03|  2021-01-03|         244|         244|\n",
      "|  a/b37| 2021-01-03|  2021-01-03|         234|         224|\n",
      "|  e/9ce| 2021-01-02|  2021-01-02|          47|         159|\n",
      "|  e/b42| 2021-01-01|  2021-01-01|          82|         157|\n",
      "|  a/a7a| 2021-01-01|  2021-01-01|         223|         198|\n",
      "|  e/b38| 2021-01-01|  2021-01-01|         246|          48|\n",
      "|  e/9ce| 2021-01-01|  2021-01-01|          65|          25|\n",
      "|  e/b3e| 2021-01-01|  2021-01-01|          13|         230|\n",
      "|  e/9ce| 2021-01-03|  2021-01-03|         228|          61|\n",
      "|  e/b38| 2021-01-02|  2021-01-02|          33|          89|\n",
      "|  s/b44| 2021-01-02|  2021-01-02|         190|          87|\n",
      "|  e/9ce| 2021-01-02|  2021-01-02|         244|         243|\n",
      "|  s/acd| 2021-01-01|  2021-01-01|         218|         132|\n",
      "|  e/b3b| 2021-01-03|  2021-01-03|          76|          35|\n",
      "|  e/b3b| 2021-01-02|  2021-01-02|          89|         149|\n",
      "+-------+-----------+------------+------------+------------+\n",
      "only showing top 20 rows\n",
      "\n"
     ]
    },
    {
     "name": "stderr",
     "output_type": "stream",
     "text": [
      "\r",
      "[Stage 13:>                                                         (0 + 1) / 1]\r",
      "\r",
      "                                                                                \r"
     ]
    }
   ],
   "source": [
    "df \\\n",
    "    .withColumn('pickup_date', F.to_date(df.pickup_datetime)) \\\n",
    "    .withColumn('dropoff_date', F.to_date(df.dropoff_datetime)) \\\n",
    "    .withColumn('base_id', crazy_stuff_udf(df.dispatching_base_num)) \\\n",
    "    .select('base_id', 'pickup_date', 'dropoff_date', 'PULocationID', 'DOLocationID') \\\n",
    "    .show()"
   ]
  },
  {
   "cell_type": "code",
   "execution_count": 55,
   "id": "00921644",
   "metadata": {},
   "outputs": [
    {
     "data": {
      "text/plain": [
       "DataFrame[pickup_datetime: timestamp, dropoff_datetime: timestamp, PULocationID: int, DOLocationID: int]"
      ]
     },
     "execution_count": 55,
     "metadata": {},
     "output_type": "execute_result"
    }
   ],
   "source": [
    "df.select('pickup_datetime', 'dropoff_datetime', 'PULocationID', 'DOLocationID') \\\n",
    "  .filter(df.hvfhs_license_num == 'HV0003')\n"
   ]
  },
  {
   "cell_type": "code",
   "execution_count": 56,
   "id": "0866f9c0",
   "metadata": {},
   "outputs": [
    {
     "name": "stdout",
     "output_type": "stream",
     "text": [
      "hvfhs_license_num,dispatching_base_num,pickup_datetime,dropoff_datetime,PULocationID,DOLocationID,SR_Flag\r",
      "\r\n",
      "HV0003,B02682,2021-01-01 00:33:44,2021-01-01 00:49:07,230,166,\r",
      "\r\n",
      "HV0003,B02682,2021-01-01 00:55:19,2021-01-01 01:18:21,152,167,\r",
      "\r\n",
      "HV0003,B02764,2021-01-01 00:23:56,2021-01-01 00:38:05,233,142,\r",
      "\r\n",
      "HV0003,B02764,2021-01-01 00:42:51,2021-01-01 00:45:50,142,143,\r",
      "\r\n",
      "HV0003,B02764,2021-01-01 00:48:14,2021-01-01 01:08:42,143,78,\r",
      "\r\n",
      "HV0005,B02510,2021-01-01 00:06:59,2021-01-01 00:43:01,88,42,\r",
      "\r\n",
      "HV0005,B02510,2021-01-01 00:50:00,2021-01-01 01:04:57,42,151,\r",
      "\r\n",
      "HV0003,B02764,2021-01-01 00:14:30,2021-01-01 00:50:27,71,226,\r",
      "\r\n",
      "HV0003,B02875,2021-01-01 00:22:54,2021-01-01 00:30:20,112,255,\r",
      "\r\n"
     ]
    }
   ],
   "source": [
    "!head -n 10 head.csv"
   ]
  },
  {
   "cell_type": "code",
   "execution_count": null,
   "id": "aa1b0e18",
   "metadata": {},
   "outputs": [],
   "source": []
  }
 ],
 "metadata": {
  "kernelspec": {
   "display_name": "Python 3 (ipykernel)",
   "language": "python",
   "name": "python3"
  },
  "language_info": {
   "codemirror_mode": {
    "name": "ipython",
    "version": 3
   },
   "file_extension": ".py",
   "mimetype": "text/x-python",
   "name": "python",
   "nbconvert_exporter": "python",
   "pygments_lexer": "ipython3",
   "version": "3.9.10"
  }
 },
 "nbformat": 4,
 "nbformat_minor": 5
}
